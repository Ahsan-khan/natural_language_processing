{
 "cells": [
  {
   "cell_type": "markdown",
   "metadata": {},
   "source": [
    "# Entity Resolution on Unlabeled Text Data"
   ]
  },
  {
   "cell_type": "markdown",
   "metadata": {},
   "source": [
    "#### By Ahsan Khan"
   ]
  },
  {
   "cell_type": "code",
   "execution_count": 2,
   "metadata": {},
   "outputs": [],
   "source": [
    "# Set up Library imports\n",
    "\n",
    "import pandas as pd\n",
    "import re\n",
    "import sklearn\n",
    "from sklearn.feature_extraction.text import TfidfVectorizer\n",
    "from sklearn.metrics.pairwise import cosine_similarity\n",
    "import numpy as np\n",
    "#from sklearn.metrics import jaccard_similarity_score"
   ]
  },
  {
   "cell_type": "code",
   "execution_count": 3,
   "metadata": {},
   "outputs": [],
   "source": [
    "# Read csv files into Pandas dataframes\n",
    "\n",
    "entities_df = pd.read_csv('All entities.csv')\n",
    "\n",
    "targets_df = pd.read_csv('All targets.csv')\n",
    "\n",
    "# deep copy\n",
    "intact_entities_df = entities_df.copy()\n",
    "intact_targets_df = targets_df.copy()"
   ]
  },
  {
   "cell_type": "code",
   "execution_count": 4,
   "metadata": {
    "scrolled": true
   },
   "outputs": [
    {
     "data": {
      "text/html": [
       "<div>\n",
       "<style scoped>\n",
       "    .dataframe tbody tr th:only-of-type {\n",
       "        vertical-align: middle;\n",
       "    }\n",
       "\n",
       "    .dataframe tbody tr th {\n",
       "        vertical-align: top;\n",
       "    }\n",
       "\n",
       "    .dataframe thead th {\n",
       "        text-align: right;\n",
       "    }\n",
       "</style>\n",
       "<table border=\"1\" class=\"dataframe\">\n",
       "  <thead>\n",
       "    <tr style=\"text-align: right;\">\n",
       "      <th></th>\n",
       "      <th>All entities</th>\n",
       "    </tr>\n",
       "  </thead>\n",
       "  <tbody>\n",
       "    <tr>\n",
       "      <th>0</th>\n",
       "      <td>BLACKROCK ADV UKLTD-MORGAN-AGG</td>\n",
       "    </tr>\n",
       "    <tr>\n",
       "      <th>1</th>\n",
       "      <td>BLACKROCK FIN MG AAF-MORGANTRN</td>\n",
       "    </tr>\n",
       "    <tr>\n",
       "      <th>2</th>\n",
       "      <td>Commingled Pension Trust Fund (Core Bond) of J...</td>\n",
       "    </tr>\n",
       "    <tr>\n",
       "      <th>3</th>\n",
       "      <td>COMMINGLED PENSION TRUST FUND (CORE PLUS BOND)...</td>\n",
       "    </tr>\n",
       "    <tr>\n",
       "      <th>4</th>\n",
       "      <td>COMMINGLED PENSION TRUST FUND (CORE PLUS BOND)...</td>\n",
       "    </tr>\n",
       "    <tr>\n",
       "      <th>...</th>\n",
       "      <td>...</td>\n",
       "    </tr>\n",
       "    <tr>\n",
       "      <th>367</th>\n",
       "      <td>MORGAN STANLEY &amp; CO INTERNATIONAL PLC</td>\n",
       "    </tr>\n",
       "    <tr>\n",
       "      <th>368</th>\n",
       "      <td>MORGAN STANLEY &amp; CO INTL P-GBR</td>\n",
       "    </tr>\n",
       "    <tr>\n",
       "      <th>369</th>\n",
       "      <td>MORGAN STANLEY &amp; CO INTL P-GBR</td>\n",
       "    </tr>\n",
       "    <tr>\n",
       "      <th>370</th>\n",
       "      <td>MORGAN STANLEY &amp; CO INTL P-IOS</td>\n",
       "    </tr>\n",
       "    <tr>\n",
       "      <th>371</th>\n",
       "      <td>MORGAN STANLEY &amp; CO IN11-LCW</td>\n",
       "    </tr>\n",
       "  </tbody>\n",
       "</table>\n",
       "<p>372 rows × 1 columns</p>\n",
       "</div>"
      ],
      "text/plain": [
       "                                          All entities\n",
       "0                       BLACKROCK ADV UKLTD-MORGAN-AGG\n",
       "1                       BLACKROCK FIN MG AAF-MORGANTRN\n",
       "2    Commingled Pension Trust Fund (Core Bond) of J...\n",
       "3    COMMINGLED PENSION TRUST FUND (CORE PLUS BOND)...\n",
       "4    COMMINGLED PENSION TRUST FUND (CORE PLUS BOND)...\n",
       "..                                                 ...\n",
       "367              MORGAN STANLEY & CO INTERNATIONAL PLC\n",
       "368                     MORGAN STANLEY & CO INTL P-GBR\n",
       "369                     MORGAN STANLEY & CO INTL P-GBR\n",
       "370                     MORGAN STANLEY & CO INTL P-IOS\n",
       "371                       MORGAN STANLEY & CO IN11-LCW\n",
       "\n",
       "[372 rows x 1 columns]"
      ]
     },
     "execution_count": 4,
     "metadata": {},
     "output_type": "execute_result"
    }
   ],
   "source": [
    "entities_df"
   ]
  },
  {
   "cell_type": "code",
   "execution_count": 8,
   "metadata": {
    "scrolled": true
   },
   "outputs": [
    {
     "data": {
      "text/html": [
       "<div>\n",
       "<style scoped>\n",
       "    .dataframe tbody tr th:only-of-type {\n",
       "        vertical-align: middle;\n",
       "    }\n",
       "\n",
       "    .dataframe tbody tr th {\n",
       "        vertical-align: top;\n",
       "    }\n",
       "\n",
       "    .dataframe thead th {\n",
       "        text-align: right;\n",
       "    }\n",
       "</style>\n",
       "<table border=\"1\" class=\"dataframe\">\n",
       "  <thead>\n",
       "    <tr style=\"text-align: right;\">\n",
       "      <th></th>\n",
       "      <th>Target</th>\n",
       "    </tr>\n",
       "  </thead>\n",
       "  <tbody>\n",
       "    <tr>\n",
       "      <th>0</th>\n",
       "      <td>Blackrock Advisors (UK) Limited</td>\n",
       "    </tr>\n",
       "    <tr>\n",
       "      <th>1</th>\n",
       "      <td>BlackRock Financial Management, Inc.</td>\n",
       "    </tr>\n",
       "    <tr>\n",
       "      <th>2</th>\n",
       "      <td>Commingled Pension Trust Fund</td>\n",
       "    </tr>\n",
       "    <tr>\n",
       "      <th>3</th>\n",
       "      <td>Commingled Pension Trust Fund</td>\n",
       "    </tr>\n",
       "    <tr>\n",
       "      <th>4</th>\n",
       "      <td>Commingled Pension Trust Fund</td>\n",
       "    </tr>\n",
       "    <tr>\n",
       "      <th>...</th>\n",
       "      <td>...</td>\n",
       "    </tr>\n",
       "    <tr>\n",
       "      <th>367</th>\n",
       "      <td>Morgan Stanley &amp; Co. International plc</td>\n",
       "    </tr>\n",
       "    <tr>\n",
       "      <th>368</th>\n",
       "      <td>Morgan Stanley &amp; Co. International plc</td>\n",
       "    </tr>\n",
       "    <tr>\n",
       "      <th>369</th>\n",
       "      <td>Morgan Stanley &amp; Co. International plc</td>\n",
       "    </tr>\n",
       "    <tr>\n",
       "      <th>370</th>\n",
       "      <td>Morgan Stanley &amp; Co. International plc</td>\n",
       "    </tr>\n",
       "    <tr>\n",
       "      <th>371</th>\n",
       "      <td>Morgan Stanley &amp; Co. International plc</td>\n",
       "    </tr>\n",
       "  </tbody>\n",
       "</table>\n",
       "<p>372 rows × 1 columns</p>\n",
       "</div>"
      ],
      "text/plain": [
       "                                     Target\n",
       "0           Blackrock Advisors (UK) Limited\n",
       "1      BlackRock Financial Management, Inc.\n",
       "2             Commingled Pension Trust Fund\n",
       "3             Commingled Pension Trust Fund\n",
       "4             Commingled Pension Trust Fund\n",
       "..                                      ...\n",
       "367  Morgan Stanley & Co. International plc\n",
       "368  Morgan Stanley & Co. International plc\n",
       "369  Morgan Stanley & Co. International plc\n",
       "370  Morgan Stanley & Co. International plc\n",
       "371  Morgan Stanley & Co. International plc\n",
       "\n",
       "[372 rows x 1 columns]"
      ]
     },
     "execution_count": 8,
     "metadata": {},
     "output_type": "execute_result"
    }
   ],
   "source": [
    "targets_df"
   ]
  },
  {
   "cell_type": "markdown",
   "metadata": {},
   "source": [
    "### Preprocessing "
   ]
  },
  {
   "cell_type": "markdown",
   "metadata": {},
   "source": [
    "In the preprocessing state we are removing all punctuation, numbers and converting all text to lowercase. This will ensure uniformity in the corpus and all incoming entities"
   ]
  },
  {
   "cell_type": "code",
   "execution_count": 9,
   "metadata": {},
   "outputs": [],
   "source": [
    "# Remove punctuation and numbers, and convert to lower case \n",
    "\n",
    "def preprocess(df):\n",
    "    df.iloc[:,0] = df.iloc[:,0].apply(lambda x : str.lower(x)) # lower case\n",
    "    df.iloc[:,0] = df.iloc[:,0].apply\\\n",
    "            (lambda x : \" \".join(re.findall('[\\w]+',x))) # remove punc, nums \n",
    "    return df"
   ]
  },
  {
   "cell_type": "code",
   "execution_count": 15,
   "metadata": {},
   "outputs": [
    {
     "data": {
      "text/plain": [
       "0                         BLACKROCK ADV UKLTD-MORGAN-AGG\n",
       "1                         BLACKROCK FIN MG AAF-MORGANTRN\n",
       "2      Commingled Pension Trust Fund (Core Bond) of J...\n",
       "3      COMMINGLED PENSION TRUST FUND (CORE PLUS BOND)...\n",
       "4      COMMINGLED PENSION TRUST FUND (CORE PLUS BOND)...\n",
       "                             ...                        \n",
       "367                MORGAN STANLEY & CO INTERNATIONAL PLC\n",
       "368                       MORGAN STANLEY & CO INTL P-GBR\n",
       "369                       MORGAN STANLEY & CO INTL P-GBR\n",
       "370                       MORGAN STANLEY & CO INTL P-IOS\n",
       "371                         MORGAN STANLEY & CO IN11-LCW\n",
       "Name: All entities, Length: 372, dtype: object"
      ]
     },
     "execution_count": 15,
     "metadata": {},
     "output_type": "execute_result"
    }
   ],
   "source": [
    "entities_df.iloc[:,0]"
   ]
  },
  {
   "cell_type": "markdown",
   "metadata": {},
   "source": [
    "### Generating 3 character tokens (markov N-grams)"
   ]
  },
  {
   "cell_type": "code",
   "execution_count": 10,
   "metadata": {},
   "outputs": [],
   "source": [
    "# A function for generating markov tokens \n",
    "\n",
    "remove_spaces = lambda s : \"\".join(s.split())\n",
    "\n",
    "def split_3_char(s):\n",
    "    if len(s) == 3:\n",
    "        return s\n",
    "    return s[:3] + ' ' + split_3_char(s[1:])"
   ]
  },
  {
   "cell_type": "code",
   "execution_count": 11,
   "metadata": {},
   "outputs": [],
   "source": [
    "# Generating markov tokens of our dataframe\n",
    "\n",
    "def tokenize_all(df):\n",
    "    l = list(df.iloc[:,0])\n",
    "    Tokens = []\n",
    "    for w in l:\n",
    "        w = remove_spaces(w)\n",
    "        tok = split_3_char(w)\n",
    "        Tokens.append(tok)\n",
    "    return Tokens"
   ]
  },
  {
   "cell_type": "markdown",
   "metadata": {},
   "source": [
    "### Checking jaccard similarty (scraped)"
   ]
  },
  {
   "cell_type": "markdown",
   "metadata": {},
   "source": [
    "It was found that Jaccard similarity was not giving us the best match even though it is known best for text data. Say we have the token \"ele\" 3 repeat times in the title of an entity. Jaccard similarity will count it as just 1 \"ele\" and hence defeat the purpose. Cosine similarity will give us a better matching."
   ]
  },
  {
   "cell_type": "code",
   "execution_count": 16,
   "metadata": {},
   "outputs": [],
   "source": [
    "# jaccard similartiy function\n",
    "\n",
    "def get_jaccard_sim(str1, str2): \n",
    "    a = set(str1.split()) \n",
    "    b = set(str2.split())\n",
    "    c = a.intersection(b)\n",
    "    return float(len(c)) / (len(a) + len(b) - len(c))"
   ]
  },
  {
   "cell_type": "markdown",
   "metadata": {},
   "source": [
    "## Preprocessing"
   ]
  },
  {
   "cell_type": "code",
   "execution_count": 18,
   "metadata": {},
   "outputs": [],
   "source": [
    "# Running our functions on data\n",
    "\n",
    "entities_df = preprocess(entities_df)\n",
    "targets_df = preprocess(targets_df)"
   ]
  },
  {
   "cell_type": "code",
   "execution_count": 20,
   "metadata": {},
   "outputs": [
    {
     "data": {
      "text/html": [
       "<div>\n",
       "<style scoped>\n",
       "    .dataframe tbody tr th:only-of-type {\n",
       "        vertical-align: middle;\n",
       "    }\n",
       "\n",
       "    .dataframe tbody tr th {\n",
       "        vertical-align: top;\n",
       "    }\n",
       "\n",
       "    .dataframe thead th {\n",
       "        text-align: right;\n",
       "    }\n",
       "</style>\n",
       "<table border=\"1\" class=\"dataframe\">\n",
       "  <thead>\n",
       "    <tr style=\"text-align: right;\">\n",
       "      <th></th>\n",
       "      <th>All entities</th>\n",
       "    </tr>\n",
       "  </thead>\n",
       "  <tbody>\n",
       "    <tr>\n",
       "      <th>0</th>\n",
       "      <td>blackrock adv ukltd morgan agg</td>\n",
       "    </tr>\n",
       "    <tr>\n",
       "      <th>1</th>\n",
       "      <td>blackrock fin mg aaf morgantrn</td>\n",
       "    </tr>\n",
       "    <tr>\n",
       "      <th>2</th>\n",
       "      <td>commingled pension trust fund core bond of jpm...</td>\n",
       "    </tr>\n",
       "    <tr>\n",
       "      <th>3</th>\n",
       "      <td>commingled pension trust fund core plus bond o...</td>\n",
       "    </tr>\n",
       "    <tr>\n",
       "      <th>4</th>\n",
       "      <td>commingled pension trust fund core plus bond o...</td>\n",
       "    </tr>\n",
       "    <tr>\n",
       "      <th>...</th>\n",
       "      <td>...</td>\n",
       "    </tr>\n",
       "    <tr>\n",
       "      <th>367</th>\n",
       "      <td>morgan stanley co international plc</td>\n",
       "    </tr>\n",
       "    <tr>\n",
       "      <th>368</th>\n",
       "      <td>morgan stanley co intl p gbr</td>\n",
       "    </tr>\n",
       "    <tr>\n",
       "      <th>369</th>\n",
       "      <td>morgan stanley co intl p gbr</td>\n",
       "    </tr>\n",
       "    <tr>\n",
       "      <th>370</th>\n",
       "      <td>morgan stanley co intl p ios</td>\n",
       "    </tr>\n",
       "    <tr>\n",
       "      <th>371</th>\n",
       "      <td>morgan stanley co in11 lcw</td>\n",
       "    </tr>\n",
       "  </tbody>\n",
       "</table>\n",
       "<p>372 rows × 1 columns</p>\n",
       "</div>"
      ],
      "text/plain": [
       "                                          All entities\n",
       "0                       blackrock adv ukltd morgan agg\n",
       "1                       blackrock fin mg aaf morgantrn\n",
       "2    commingled pension trust fund core bond of jpm...\n",
       "3    commingled pension trust fund core plus bond o...\n",
       "4    commingled pension trust fund core plus bond o...\n",
       "..                                                 ...\n",
       "367                morgan stanley co international plc\n",
       "368                       morgan stanley co intl p gbr\n",
       "369                       morgan stanley co intl p gbr\n",
       "370                       morgan stanley co intl p ios\n",
       "371                         morgan stanley co in11 lcw\n",
       "\n",
       "[372 rows x 1 columns]"
      ]
     },
     "execution_count": 20,
     "metadata": {},
     "output_type": "execute_result"
    }
   ],
   "source": [
    "entities_df"
   ]
  },
  {
   "cell_type": "code",
   "execution_count": 21,
   "metadata": {},
   "outputs": [
    {
     "data": {
      "text/html": [
       "<div>\n",
       "<style scoped>\n",
       "    .dataframe tbody tr th:only-of-type {\n",
       "        vertical-align: middle;\n",
       "    }\n",
       "\n",
       "    .dataframe tbody tr th {\n",
       "        vertical-align: top;\n",
       "    }\n",
       "\n",
       "    .dataframe thead th {\n",
       "        text-align: right;\n",
       "    }\n",
       "</style>\n",
       "<table border=\"1\" class=\"dataframe\">\n",
       "  <thead>\n",
       "    <tr style=\"text-align: right;\">\n",
       "      <th></th>\n",
       "      <th>Target</th>\n",
       "    </tr>\n",
       "  </thead>\n",
       "  <tbody>\n",
       "    <tr>\n",
       "      <th>0</th>\n",
       "      <td>blackrock advisors uk limited</td>\n",
       "    </tr>\n",
       "    <tr>\n",
       "      <th>1</th>\n",
       "      <td>blackrock financial management inc</td>\n",
       "    </tr>\n",
       "    <tr>\n",
       "      <th>2</th>\n",
       "      <td>commingled pension trust fund</td>\n",
       "    </tr>\n",
       "    <tr>\n",
       "      <th>3</th>\n",
       "      <td>commingled pension trust fund</td>\n",
       "    </tr>\n",
       "    <tr>\n",
       "      <th>4</th>\n",
       "      <td>commingled pension trust fund</td>\n",
       "    </tr>\n",
       "    <tr>\n",
       "      <th>...</th>\n",
       "      <td>...</td>\n",
       "    </tr>\n",
       "    <tr>\n",
       "      <th>367</th>\n",
       "      <td>morgan stanley co international plc</td>\n",
       "    </tr>\n",
       "    <tr>\n",
       "      <th>368</th>\n",
       "      <td>morgan stanley co international plc</td>\n",
       "    </tr>\n",
       "    <tr>\n",
       "      <th>369</th>\n",
       "      <td>morgan stanley co international plc</td>\n",
       "    </tr>\n",
       "    <tr>\n",
       "      <th>370</th>\n",
       "      <td>morgan stanley co international plc</td>\n",
       "    </tr>\n",
       "    <tr>\n",
       "      <th>371</th>\n",
       "      <td>morgan stanley co international plc</td>\n",
       "    </tr>\n",
       "  </tbody>\n",
       "</table>\n",
       "<p>372 rows × 1 columns</p>\n",
       "</div>"
      ],
      "text/plain": [
       "                                  Target\n",
       "0          blackrock advisors uk limited\n",
       "1     blackrock financial management inc\n",
       "2          commingled pension trust fund\n",
       "3          commingled pension trust fund\n",
       "4          commingled pension trust fund\n",
       "..                                   ...\n",
       "367  morgan stanley co international plc\n",
       "368  morgan stanley co international plc\n",
       "369  morgan stanley co international plc\n",
       "370  morgan stanley co international plc\n",
       "371  morgan stanley co international plc\n",
       "\n",
       "[372 rows x 1 columns]"
      ]
     },
     "execution_count": 21,
     "metadata": {},
     "output_type": "execute_result"
    }
   ],
   "source": [
    "targets_df"
   ]
  },
  {
   "cell_type": "markdown",
   "metadata": {},
   "source": [
    "## Tokenization "
   ]
  },
  {
   "cell_type": "code",
   "execution_count": 23,
   "metadata": {},
   "outputs": [],
   "source": [
    "ent_corpus = tokenize_all(entities_df)\n",
    "targ_corpus = tokenize_all(targets_df)"
   ]
  },
  {
   "cell_type": "code",
   "execution_count": 30,
   "metadata": {},
   "outputs": [
    {
     "data": {
      "text/plain": [
       "'com omm mmi min ing ngl gle led edp dpe pen ens nsi sio ion ont ntr tru rus ust stf tfu fun und'"
      ]
     },
     "execution_count": 30,
     "metadata": {},
     "output_type": "execute_result"
    }
   ],
   "source": [
    "targ_corpus[3]"
   ]
  },
  {
   "cell_type": "code",
   "execution_count": 31,
   "metadata": {},
   "outputs": [
    {
     "data": {
      "text/plain": [
       "'com omm mmi min ing ngl gle led edp dpe pen ens nsi sio ion ont ntr tru rus ust stf tfu fun und ndc dco cor ore rep epl plu lus usb sbo bon ond ndo dof ofj fjp jpm pmo mor org rga gan anc nch cha has ase seb eba ban ank nkn kna'"
      ]
     },
     "execution_count": 31,
     "metadata": {},
     "output_type": "execute_result"
    }
   ],
   "source": [
    "ent_corpus[3]"
   ]
  },
  {
   "cell_type": "code",
   "execution_count": null,
   "metadata": {},
   "outputs": [],
   "source": []
  },
  {
   "cell_type": "code",
   "execution_count": null,
   "metadata": {},
   "outputs": [],
   "source": []
  },
  {
   "cell_type": "code",
   "execution_count": 32,
   "metadata": {},
   "outputs": [],
   "source": [
    "ent_size = len(ent_corpus)\n",
    "corpus_ent_targ = ent_corpus + targ_corpus # A giant corpus containing both entities and targets markov tokens."
   ]
  },
  {
   "cell_type": "raw",
   "metadata": {},
   "source": [
    "ent_corpus"
   ]
  },
  {
   "cell_type": "code",
   "execution_count": 43,
   "metadata": {},
   "outputs": [
    {
     "data": {
      "text/plain": [
       "372"
      ]
     },
     "execution_count": 43,
     "metadata": {},
     "output_type": "execute_result"
    }
   ],
   "source": [
    "ent_size"
   ]
  },
  {
   "cell_type": "code",
   "execution_count": 42,
   "metadata": {
    "scrolled": true
   },
   "outputs": [
    {
     "data": {
      "text/plain": [
       "744"
      ]
     },
     "execution_count": 42,
     "metadata": {},
     "output_type": "execute_result"
    }
   ],
   "source": [
    "# Main corpus\n",
    "\n",
    "len(corpus_ent_targ)"
   ]
  },
  {
   "cell_type": "markdown",
   "metadata": {},
   "source": [
    "## Cosine similariy\n"
   ]
  },
  {
   "cell_type": "markdown",
   "metadata": {},
   "source": [
    "#### Making TF matrix (not tf-idf)"
   ]
  },
  {
   "cell_type": "code",
   "execution_count": 38,
   "metadata": {},
   "outputs": [],
   "source": [
    "from sklearn.feature_extraction.text import CountVectorizer\n",
    "\n",
    "vectorizer = CountVectorizer()\n",
    "tf = vectorizer.fit_transform(corpus_ent_targ)"
   ]
  },
  {
   "cell_type": "markdown",
   "metadata": {},
   "source": [
    "After applying tf-idf scores I noticed the 'idf' part was giving less weights to tokens that appeared more often in the corpus. In our case this is not what we want. We want all the tokens to be given equal weights as each token represents a chunk of the entity's title. Hence, just tf scoring and not tf-idf scoring is better in this case."
   ]
  },
  {
   "cell_type": "markdown",
   "metadata": {},
   "source": [
    "Now we have a sparse maxtrix of all tokens"
   ]
  },
  {
   "cell_type": "code",
   "execution_count": 39,
   "metadata": {
    "scrolled": true
   },
   "outputs": [
    {
     "name": "stdout",
     "output_type": "stream",
     "text": [
      "  (0, 130)\t1\n",
      "  (0, 461)\t1\n",
      "  (0, 59)\t1\n",
      "  (0, 165)\t1\n",
      "  (0, 457)\t1\n",
      "  (0, 726)\t1\n",
      "  (0, 631)\t1\n",
      "  (0, 162)\t1\n",
      "  (0, 447)\t1\n",
      "  (0, 64)\t1\n",
      "  (0, 239)\t1\n",
      "  (0, 948)\t1\n",
      "  (0, 911)\t1\n",
      "  (0, 454)\t1\n",
      "  (0, 523)\t1\n",
      "  (0, 833)\t1\n",
      "  (0, 220)\t1\n",
      "  (0, 547)\t1\n",
      "  (0, 656)\t1\n",
      "  (0, 712)\t1\n",
      "  (0, 355)\t1\n",
      "  (0, 86)\t1\n",
      "  (0, 554)\t1\n",
      "  (0, 68)\t1\n",
      "  (1, 130)\t1\n",
      "  :\t:\n",
      "  (743, 427)\t1\n",
      "  (743, 121)\t1\n",
      "  (743, 857)\t1\n",
      "  (743, 425)\t1\n",
      "  (743, 612)\t1\n",
      "  (743, 845)\t1\n",
      "  (743, 97)\t1\n",
      "  (743, 679)\t1\n",
      "  (743, 610)\t1\n",
      "  (743, 806)\t1\n",
      "  (743, 826)\t1\n",
      "  (743, 95)\t1\n",
      "  (743, 603)\t1\n",
      "  (743, 487)\t1\n",
      "  (743, 329)\t1\n",
      "  (743, 558)\t1\n",
      "  (743, 643)\t1\n",
      "  (743, 555)\t1\n",
      "  (743, 961)\t1\n",
      "  (743, 300)\t1\n",
      "  (743, 725)\t1\n",
      "  (743, 80)\t1\n",
      "  (743, 172)\t1\n",
      "  (743, 638)\t1\n",
      "  (743, 520)\t1\n"
     ]
    }
   ],
   "source": [
    "print(tf)"
   ]
  },
  {
   "cell_type": "code",
   "execution_count": 41,
   "metadata": {},
   "outputs": [
    {
     "data": {
      "text/plain": [
       "<744x976 sparse matrix of type '<class 'numpy.int64'>'\n",
       "\twith 20487 stored elements in Compressed Sparse Row format>"
      ]
     },
     "execution_count": 41,
     "metadata": {},
     "output_type": "execute_result"
    }
   ],
   "source": [
    "tf"
   ]
  },
  {
   "cell_type": "markdown",
   "metadata": {},
   "source": [
    "Now finding cosine similarity of each entity with every target.`"
   ]
  },
  {
   "cell_type": "code",
   "execution_count": 47,
   "metadata": {},
   "outputs": [
    {
     "data": {
      "text/plain": [
       "array([[0.18856181, 0.17153801, 0.14142136, ..., 0.10721125, 0.10721125,\n",
       "        0.10721125],\n",
       "       [0.18856181, 0.17153801, 0.14142136, ..., 0.10721125, 0.10721125,\n",
       "        0.10721125],\n",
       "       [0.18856181, 0.17153801, 0.14142136, ..., 0.10721125, 0.10721125,\n",
       "        0.10721125],\n",
       "       ...,\n",
       "       [0.        , 0.        , 0.        , ..., 0.61588176, 0.61588176,\n",
       "        0.61588176],\n",
       "       [0.        , 0.        , 0.        , ..., 0.61588176, 0.61588176,\n",
       "        0.61588176],\n",
       "       [0.        , 0.        , 0.        , ..., 0.61588176, 0.61588176,\n",
       "        0.61588176]])"
      ]
     },
     "execution_count": 47,
     "metadata": {},
     "output_type": "execute_result"
    }
   ],
   "source": [
    "# cosine on Tf\n",
    "\n",
    "similarity_ent_targ = cosine_similarity(tf[0:ent_size], tf[ent_size:])\n",
    "similarity_ent_targ # List of lists containing each entity and its weights"
   ]
  },
  {
   "cell_type": "code",
   "execution_count": 48,
   "metadata": {},
   "outputs": [
    {
     "data": {
      "text/plain": [
       "array([179, 179, 179, 179, 179, 179, 179, 179, 179, 179,   2,   2,   2,\n",
       "         2,   2,   2,   2,   2,   2,   2,   2, 213, 213, 213, 216, 217,\n",
       "       218,  18,  98,  31,  31,  18,  18,  18,  18, 227, 227, 227, 218,\n",
       "       172,  18,  18,  18,  18,  18,  18,  18,  18,  18,  18,  18,  18,\n",
       "        18,  18,  18,  18,  18,  18,  18,  18,  18,  18,  18,  18, 256,\n",
       "       256, 256, 256], dtype=int64)"
      ]
     },
     "execution_count": 48,
     "metadata": {},
     "output_type": "execute_result"
    }
   ],
   "source": [
    "# Index of target with max score for each entry.\n",
    "\n",
    "targ_indexes = similarity_ent_targ.argmax(axis=1)\n",
    "targ_indexes #Indexes of targets determined by argmax on cosine similarity weights"
   ]
  },
  {
   "cell_type": "code",
   "execution_count": 49,
   "metadata": {},
   "outputs": [],
   "source": [
    "entities_df = intact_entities_df\n",
    "targets_df = intact_targets_df\n",
    "entities_series = entities_df.iloc[:,0]"
   ]
  },
  {
   "cell_type": "code",
   "execution_count": 50,
   "metadata": {},
   "outputs": [],
   "source": [
    "# Get targets given indexes\n",
    "\n",
    "associated_targets = targets_df.iloc[targ_indexes] \n",
    "associated_targets_series = associated_targets.iloc[:,0]\n",
    "associated_targets_series = associated_targets_series.reset_index(drop=False)"
   ]
  },
  {
   "cell_type": "code",
   "execution_count": 51,
   "metadata": {},
   "outputs": [],
   "source": [
    "# Concatenating final dataframe\n",
    "\n",
    "df = pd.concat([entities_series, associated_targets_series], axis=1)"
   ]
  },
  {
   "cell_type": "markdown",
   "metadata": {},
   "source": [
    "Creating a csv file"
   ]
  },
  {
   "cell_type": "code",
   "execution_count": 52,
   "metadata": {},
   "outputs": [],
   "source": [
    "df.to_csv('C:\\\\Users\\\\Ahsan\\\\Desktop\\\\Capstone\\\\Prototype\\\\matched.csv', index=False)"
   ]
  },
  {
   "cell_type": "markdown",
   "metadata": {},
   "source": [
    "## Output table of matched entities to its target"
   ]
  },
  {
   "cell_type": "code",
   "execution_count": 33,
   "metadata": {},
   "outputs": [
    {
     "data": {
      "text/html": [
       "<div>\n",
       "<style scoped>\n",
       "    .dataframe tbody tr th:only-of-type {\n",
       "        vertical-align: middle;\n",
       "    }\n",
       "\n",
       "    .dataframe tbody tr th {\n",
       "        vertical-align: top;\n",
       "    }\n",
       "\n",
       "    .dataframe thead th {\n",
       "        text-align: right;\n",
       "    }\n",
       "</style>\n",
       "<table border=\"1\" class=\"dataframe\">\n",
       "  <thead>\n",
       "    <tr style=\"text-align: right;\">\n",
       "      <th></th>\n",
       "      <th>Random entities</th>\n",
       "      <th>index</th>\n",
       "      <th>Target</th>\n",
       "    </tr>\n",
       "  </thead>\n",
       "  <tbody>\n",
       "    <tr>\n",
       "      <th>0</th>\n",
       "      <td>JP MORGAN BANK (IRELAND) PLC AS TRUSTEE OF BLA...</td>\n",
       "      <td>179</td>\n",
       "      <td>J.P. Morgan Bank (Ireland) plc</td>\n",
       "    </tr>\n",
       "    <tr>\n",
       "      <th>1</th>\n",
       "      <td>JP MORGAN BANK (IRELAND) PLC AS TRUSTEE OF BLA...</td>\n",
       "      <td>179</td>\n",
       "      <td>J.P. Morgan Bank (Ireland) plc</td>\n",
       "    </tr>\n",
       "    <tr>\n",
       "      <th>2</th>\n",
       "      <td>JP MORGAN BANK (IRELAND) PLC AS TRUSTEE OF BLA...</td>\n",
       "      <td>179</td>\n",
       "      <td>J.P. Morgan Bank (Ireland) plc</td>\n",
       "    </tr>\n",
       "    <tr>\n",
       "      <th>3</th>\n",
       "      <td>JP MORGAN BANK (IRELAND) PLC AS TRUSTEE OF BLA...</td>\n",
       "      <td>179</td>\n",
       "      <td>J.P. Morgan Bank (Ireland) plc</td>\n",
       "    </tr>\n",
       "    <tr>\n",
       "      <th>4</th>\n",
       "      <td>JP MORGAN BANK (IRELAND) PLC AS TRUSTEE OF BLA...</td>\n",
       "      <td>179</td>\n",
       "      <td>J.P. Morgan Bank (Ireland) plc</td>\n",
       "    </tr>\n",
       "    <tr>\n",
       "      <th>5</th>\n",
       "      <td>JP MORGAN BANK (IRELAND) PLC AS TRUSTEE OF BLA...</td>\n",
       "      <td>179</td>\n",
       "      <td>J.P. Morgan Bank (Ireland) plc</td>\n",
       "    </tr>\n",
       "    <tr>\n",
       "      <th>6</th>\n",
       "      <td>JP MORGAN BANK (IRELAND) PLC AS TRUSTEE OF BLA...</td>\n",
       "      <td>179</td>\n",
       "      <td>J.P. Morgan Bank (Ireland) plc</td>\n",
       "    </tr>\n",
       "    <tr>\n",
       "      <th>7</th>\n",
       "      <td>JP MORGAN BANK (IRELAND) PLC AS TRUSTEE OF BLA...</td>\n",
       "      <td>179</td>\n",
       "      <td>J.P. Morgan Bank (Ireland) plc</td>\n",
       "    </tr>\n",
       "    <tr>\n",
       "      <th>8</th>\n",
       "      <td>JP MORGAN BANK (IRELAND) PLC AS TRUSTEE OF BLA...</td>\n",
       "      <td>179</td>\n",
       "      <td>J.P. Morgan Bank (Ireland) plc</td>\n",
       "    </tr>\n",
       "    <tr>\n",
       "      <th>9</th>\n",
       "      <td>JP MORGAN BANK (IRELAND) PLC AS TRUSTEE OF BLA...</td>\n",
       "      <td>179</td>\n",
       "      <td>J.P. Morgan Bank (Ireland) plc</td>\n",
       "    </tr>\n",
       "    <tr>\n",
       "      <th>10</th>\n",
       "      <td>COMMINGLED PENSION TRUST FUND (INTERMEDIATE PU...</td>\n",
       "      <td>2</td>\n",
       "      <td>Commingled Pension Trust Fund</td>\n",
       "    </tr>\n",
       "    <tr>\n",
       "      <th>11</th>\n",
       "      <td>COMMINGLED PENSION TRUST FUND (INTERNATIONAL E...</td>\n",
       "      <td>2</td>\n",
       "      <td>Commingled Pension Trust Fund</td>\n",
       "    </tr>\n",
       "    <tr>\n",
       "      <th>12</th>\n",
       "      <td>Commingled Pension Trust Fund (Large Cap Growt...</td>\n",
       "      <td>2</td>\n",
       "      <td>Commingled Pension Trust Fund</td>\n",
       "    </tr>\n",
       "    <tr>\n",
       "      <th>13</th>\n",
       "      <td>COMMINGLED PENSION TRUST FUND (PUBLIC BOND) OF...</td>\n",
       "      <td>2</td>\n",
       "      <td>Commingled Pension Trust Fund</td>\n",
       "    </tr>\n",
       "    <tr>\n",
       "      <th>14</th>\n",
       "      <td>Commingled Pension Trust Fund (Stable Asset In...</td>\n",
       "      <td>2</td>\n",
       "      <td>Commingled Pension Trust Fund</td>\n",
       "    </tr>\n",
       "    <tr>\n",
       "      <th>15</th>\n",
       "      <td>COMMINGLED PENSION TRUST FUND (STABLE INCOME B...</td>\n",
       "      <td>2</td>\n",
       "      <td>Commingled Pension Trust Fund</td>\n",
       "    </tr>\n",
       "    <tr>\n",
       "      <th>16</th>\n",
       "      <td>COMMINGLED PENSION TRUST FUND (SYSTEMATIC ALPH...</td>\n",
       "      <td>2</td>\n",
       "      <td>Commingled Pension Trust Fund</td>\n",
       "    </tr>\n",
       "    <tr>\n",
       "      <th>17</th>\n",
       "      <td>Commingled Pension Trust Fund (U.S. Active Cor...</td>\n",
       "      <td>2</td>\n",
       "      <td>Commingled Pension Trust Fund</td>\n",
       "    </tr>\n",
       "    <tr>\n",
       "      <th>18</th>\n",
       "      <td>Commingled Pension Trust Fund (U.S. Active Val...</td>\n",
       "      <td>2</td>\n",
       "      <td>Commingled Pension Trust Fund</td>\n",
       "    </tr>\n",
       "    <tr>\n",
       "      <th>19</th>\n",
       "      <td>COMMINGLED PENSION TRUST FUND (U.S. REAL ESTAT...</td>\n",
       "      <td>2</td>\n",
       "      <td>Commingled Pension Trust Fund</td>\n",
       "    </tr>\n",
       "    <tr>\n",
       "      <th>20</th>\n",
       "      <td>Commingled Pension Trust Fund (U.S. Smartlndex...</td>\n",
       "      <td>2</td>\n",
       "      <td>Commingled Pension Trust Fund</td>\n",
       "    </tr>\n",
       "    <tr>\n",
       "      <th>21</th>\n",
       "      <td>DEUTSCHE MORGAN GREN AUS L-SYD</td>\n",
       "      <td>213</td>\n",
       "      <td>Deutsche Morgan Grenfell Group Public Limited ...</td>\n",
       "    </tr>\n",
       "    <tr>\n",
       "      <th>22</th>\n",
       "      <td>DEUTSCHE MORGAN GRENFELL (C.I.) LIMITED FKA: M...</td>\n",
       "      <td>213</td>\n",
       "      <td>Deutsche Morgan Grenfell Group Public Limited ...</td>\n",
       "    </tr>\n",
       "    <tr>\n",
       "      <th>23</th>\n",
       "      <td>DEUTSCHE MORGAN GRENFELL AUSTRALIA LTD</td>\n",
       "      <td>213</td>\n",
       "      <td>Deutsche Morgan Grenfell Group Public Limited ...</td>\n",
       "    </tr>\n",
       "    <tr>\n",
       "      <th>24</th>\n",
       "      <td>J P MORGAN AUST LTD MELB</td>\n",
       "      <td>216</td>\n",
       "      <td>J.P. Morgan Australia Limited</td>\n",
       "    </tr>\n",
       "    <tr>\n",
       "      <th>25</th>\n",
       "      <td>J P MORGAN CANADA-TOR ONT</td>\n",
       "      <td>217</td>\n",
       "      <td>J.P. Morgan Bank Canada</td>\n",
       "    </tr>\n",
       "    <tr>\n",
       "      <th>26</th>\n",
       "      <td>J P MORGAN EUROPE LTD LDN</td>\n",
       "      <td>218</td>\n",
       "      <td>J.P. Morgan Europe Limited</td>\n",
       "    </tr>\n",
       "    <tr>\n",
       "      <th>27</th>\n",
       "      <td>J P MORGAN INV MGT INC-NY</td>\n",
       "      <td>18</td>\n",
       "      <td>J.P. Morgan Investment Management, Inc.</td>\n",
       "    </tr>\n",
       "    <tr>\n",
       "      <th>28</th>\n",
       "      <td>J P MORGAN SEC CAN INC-TOR</td>\n",
       "      <td>98</td>\n",
       "      <td>J.P. Morgan Securities Canada Inc</td>\n",
       "    </tr>\n",
       "    <tr>\n",
       "      <th>29</th>\n",
       "      <td>J P Morgan Securities LLC</td>\n",
       "      <td>31</td>\n",
       "      <td>J.P. Morgan Securities LLC</td>\n",
       "    </tr>\n",
       "    <tr>\n",
       "      <th>...</th>\n",
       "      <td>...</td>\n",
       "      <td>...</td>\n",
       "      <td>...</td>\n",
       "    </tr>\n",
       "    <tr>\n",
       "      <th>38</th>\n",
       "      <td>J.P. MORGAN EUROPE LIMITED</td>\n",
       "      <td>218</td>\n",
       "      <td>J.P. Morgan Europe Limited</td>\n",
       "    </tr>\n",
       "    <tr>\n",
       "      <th>39</th>\n",
       "      <td>J.P. MORGAN EXCHANGE-TRADED FUND - JPMORGAN CO...</td>\n",
       "      <td>172</td>\n",
       "      <td>J.P. Morgan Ventures Energy Corporation</td>\n",
       "    </tr>\n",
       "    <tr>\n",
       "      <th>40</th>\n",
       "      <td>J.P. MORGAN INV MGT AAF SEL FD(USA)</td>\n",
       "      <td>18</td>\n",
       "      <td>J.P. Morgan Investment Management, Inc.</td>\n",
       "    </tr>\n",
       "    <tr>\n",
       "      <th>41</th>\n",
       "      <td>J.P. MORGAN INV MGT-USA</td>\n",
       "      <td>18</td>\n",
       "      <td>J.P. Morgan Investment Management, Inc.</td>\n",
       "    </tr>\n",
       "    <tr>\n",
       "      <th>42</th>\n",
       "      <td>J.P. MORGAN INVESTMENT MANAGEMENT CO.</td>\n",
       "      <td>18</td>\n",
       "      <td>J.P. Morgan Investment Management, Inc.</td>\n",
       "    </tr>\n",
       "    <tr>\n",
       "      <th>43</th>\n",
       "      <td>J.P. MORGAN INVESTMENT MANAGEMENT INC.</td>\n",
       "      <td>18</td>\n",
       "      <td>J.P. Morgan Investment Management, Inc.</td>\n",
       "    </tr>\n",
       "    <tr>\n",
       "      <th>44</th>\n",
       "      <td>J.P. MORGAN INVESTMENT MANAGEMENT INC.</td>\n",
       "      <td>18</td>\n",
       "      <td>J.P. Morgan Investment Management, Inc.</td>\n",
       "    </tr>\n",
       "    <tr>\n",
       "      <th>45</th>\n",
       "      <td>J.P. MORGAN INVESTMENT MANAGEMENT INC. AS AGEN...</td>\n",
       "      <td>18</td>\n",
       "      <td>J.P. Morgan Investment Management, Inc.</td>\n",
       "    </tr>\n",
       "    <tr>\n",
       "      <th>46</th>\n",
       "      <td>J.P. Morgan Investment Management Inc. As Agen...</td>\n",
       "      <td>18</td>\n",
       "      <td>J.P. Morgan Investment Management, Inc.</td>\n",
       "    </tr>\n",
       "    <tr>\n",
       "      <th>47</th>\n",
       "      <td>J.P. MORGAN INVESTMENT MANAGEMENT INC. AS AGEN...</td>\n",
       "      <td>18</td>\n",
       "      <td>J.P. Morgan Investment Management, Inc.</td>\n",
       "    </tr>\n",
       "    <tr>\n",
       "      <th>48</th>\n",
       "      <td>J.P. MORGAN INVESTMENT MGMT</td>\n",
       "      <td>18</td>\n",
       "      <td>J.P. Morgan Investment Management, Inc.</td>\n",
       "    </tr>\n",
       "    <tr>\n",
       "      <th>49</th>\n",
       "      <td>J.P. MORGAN INVESTMENT MGMT</td>\n",
       "      <td>18</td>\n",
       "      <td>J.P. Morgan Investment Management, Inc.</td>\n",
       "    </tr>\n",
       "    <tr>\n",
       "      <th>50</th>\n",
       "      <td>J.P. MORGAN INVESTMENT MGMT</td>\n",
       "      <td>18</td>\n",
       "      <td>J.P. Morgan Investment Management, Inc.</td>\n",
       "    </tr>\n",
       "    <tr>\n",
       "      <th>51</th>\n",
       "      <td>J.P. MORGAN INVESTMENT MGMT</td>\n",
       "      <td>18</td>\n",
       "      <td>J.P. Morgan Investment Management, Inc.</td>\n",
       "    </tr>\n",
       "    <tr>\n",
       "      <th>52</th>\n",
       "      <td>J.P. MORGAN INVESTMENT MGMT</td>\n",
       "      <td>18</td>\n",
       "      <td>J.P. Morgan Investment Management, Inc.</td>\n",
       "    </tr>\n",
       "    <tr>\n",
       "      <th>53</th>\n",
       "      <td>J.P. MORGAN INVESTMENT MGMT</td>\n",
       "      <td>18</td>\n",
       "      <td>J.P. Morgan Investment Management, Inc.</td>\n",
       "    </tr>\n",
       "    <tr>\n",
       "      <th>54</th>\n",
       "      <td>J.P. MORGAN INVESTMENT MGMT</td>\n",
       "      <td>18</td>\n",
       "      <td>J.P. Morgan Investment Management, Inc.</td>\n",
       "    </tr>\n",
       "    <tr>\n",
       "      <th>55</th>\n",
       "      <td>J.P. MORGAN INVESTMENT MGMT</td>\n",
       "      <td>18</td>\n",
       "      <td>J.P. Morgan Investment Management, Inc.</td>\n",
       "    </tr>\n",
       "    <tr>\n",
       "      <th>56</th>\n",
       "      <td>J.P. MORGAN INVESTMENT MGMT</td>\n",
       "      <td>18</td>\n",
       "      <td>J.P. Morgan Investment Management, Inc.</td>\n",
       "    </tr>\n",
       "    <tr>\n",
       "      <th>57</th>\n",
       "      <td>J.P. MORGAN INVESTMENT MGMT IN</td>\n",
       "      <td>18</td>\n",
       "      <td>J.P. Morgan Investment Management, Inc.</td>\n",
       "    </tr>\n",
       "    <tr>\n",
       "      <th>58</th>\n",
       "      <td>J.P. MORGAN INVESTMENT MGMT IN</td>\n",
       "      <td>18</td>\n",
       "      <td>J.P. Morgan Investment Management, Inc.</td>\n",
       "    </tr>\n",
       "    <tr>\n",
       "      <th>59</th>\n",
       "      <td>J.P. MORGAN INVESTMENT MGMT IN</td>\n",
       "      <td>18</td>\n",
       "      <td>J.P. Morgan Investment Management, Inc.</td>\n",
       "    </tr>\n",
       "    <tr>\n",
       "      <th>60</th>\n",
       "      <td>J.P. MORGAN INVESTMENT MGMT IN</td>\n",
       "      <td>18</td>\n",
       "      <td>J.P. Morgan Investment Management, Inc.</td>\n",
       "    </tr>\n",
       "    <tr>\n",
       "      <th>61</th>\n",
       "      <td>J.P. MORGAN INVESTMENT MGMT IN</td>\n",
       "      <td>18</td>\n",
       "      <td>J.P. Morgan Investment Management, Inc.</td>\n",
       "    </tr>\n",
       "    <tr>\n",
       "      <th>62</th>\n",
       "      <td>J.P. MORGAN INVESTMENT MGMT IN</td>\n",
       "      <td>18</td>\n",
       "      <td>J.P. Morgan Investment Management, Inc.</td>\n",
       "    </tr>\n",
       "    <tr>\n",
       "      <th>63</th>\n",
       "      <td>J.P. MORGAN INVST MGMT-NYC</td>\n",
       "      <td>18</td>\n",
       "      <td>J.P. Morgan Investment Management, Inc.</td>\n",
       "    </tr>\n",
       "    <tr>\n",
       "      <th>64</th>\n",
       "      <td>MORGAN STANLEY</td>\n",
       "      <td>256</td>\n",
       "      <td>Morgan Stanley</td>\n",
       "    </tr>\n",
       "    <tr>\n",
       "      <th>65</th>\n",
       "      <td>MORGAN STANLEY</td>\n",
       "      <td>256</td>\n",
       "      <td>Morgan Stanley</td>\n",
       "    </tr>\n",
       "    <tr>\n",
       "      <th>66</th>\n",
       "      <td>MORGAN STANLEY</td>\n",
       "      <td>256</td>\n",
       "      <td>Morgan Stanley</td>\n",
       "    </tr>\n",
       "    <tr>\n",
       "      <th>67</th>\n",
       "      <td>MORGAN STANLEY</td>\n",
       "      <td>256</td>\n",
       "      <td>Morgan Stanley</td>\n",
       "    </tr>\n",
       "  </tbody>\n",
       "</table>\n",
       "<p>68 rows × 3 columns</p>\n",
       "</div>"
      ],
      "text/plain": [
       "                                      Random entities  index  \\\n",
       "0   JP MORGAN BANK (IRELAND) PLC AS TRUSTEE OF BLA...    179   \n",
       "1   JP MORGAN BANK (IRELAND) PLC AS TRUSTEE OF BLA...    179   \n",
       "2   JP MORGAN BANK (IRELAND) PLC AS TRUSTEE OF BLA...    179   \n",
       "3   JP MORGAN BANK (IRELAND) PLC AS TRUSTEE OF BLA...    179   \n",
       "4   JP MORGAN BANK (IRELAND) PLC AS TRUSTEE OF BLA...    179   \n",
       "5   JP MORGAN BANK (IRELAND) PLC AS TRUSTEE OF BLA...    179   \n",
       "6   JP MORGAN BANK (IRELAND) PLC AS TRUSTEE OF BLA...    179   \n",
       "7   JP MORGAN BANK (IRELAND) PLC AS TRUSTEE OF BLA...    179   \n",
       "8   JP MORGAN BANK (IRELAND) PLC AS TRUSTEE OF BLA...    179   \n",
       "9   JP MORGAN BANK (IRELAND) PLC AS TRUSTEE OF BLA...    179   \n",
       "10  COMMINGLED PENSION TRUST FUND (INTERMEDIATE PU...      2   \n",
       "11  COMMINGLED PENSION TRUST FUND (INTERNATIONAL E...      2   \n",
       "12  Commingled Pension Trust Fund (Large Cap Growt...      2   \n",
       "13  COMMINGLED PENSION TRUST FUND (PUBLIC BOND) OF...      2   \n",
       "14  Commingled Pension Trust Fund (Stable Asset In...      2   \n",
       "15  COMMINGLED PENSION TRUST FUND (STABLE INCOME B...      2   \n",
       "16  COMMINGLED PENSION TRUST FUND (SYSTEMATIC ALPH...      2   \n",
       "17  Commingled Pension Trust Fund (U.S. Active Cor...      2   \n",
       "18  Commingled Pension Trust Fund (U.S. Active Val...      2   \n",
       "19  COMMINGLED PENSION TRUST FUND (U.S. REAL ESTAT...      2   \n",
       "20  Commingled Pension Trust Fund (U.S. Smartlndex...      2   \n",
       "21                     DEUTSCHE MORGAN GREN AUS L-SYD    213   \n",
       "22  DEUTSCHE MORGAN GRENFELL (C.I.) LIMITED FKA: M...    213   \n",
       "23             DEUTSCHE MORGAN GRENFELL AUSTRALIA LTD    213   \n",
       "24                           J P MORGAN AUST LTD MELB    216   \n",
       "25                          J P MORGAN CANADA-TOR ONT    217   \n",
       "26                          J P MORGAN EUROPE LTD LDN    218   \n",
       "27                          J P MORGAN INV MGT INC-NY     18   \n",
       "28                         J P MORGAN SEC CAN INC-TOR     98   \n",
       "29                          J P Morgan Securities LLC     31   \n",
       "..                                                ...    ...   \n",
       "38                         J.P. MORGAN EUROPE LIMITED    218   \n",
       "39  J.P. MORGAN EXCHANGE-TRADED FUND - JPMORGAN CO...    172   \n",
       "40                J.P. MORGAN INV MGT AAF SEL FD(USA)     18   \n",
       "41                            J.P. MORGAN INV MGT-USA     18   \n",
       "42              J.P. MORGAN INVESTMENT MANAGEMENT CO.     18   \n",
       "43             J.P. MORGAN INVESTMENT MANAGEMENT INC.     18   \n",
       "44             J.P. MORGAN INVESTMENT MANAGEMENT INC.     18   \n",
       "45  J.P. MORGAN INVESTMENT MANAGEMENT INC. AS AGEN...     18   \n",
       "46  J.P. Morgan Investment Management Inc. As Agen...     18   \n",
       "47  J.P. MORGAN INVESTMENT MANAGEMENT INC. AS AGEN...     18   \n",
       "48                        J.P. MORGAN INVESTMENT MGMT     18   \n",
       "49                        J.P. MORGAN INVESTMENT MGMT     18   \n",
       "50                        J.P. MORGAN INVESTMENT MGMT     18   \n",
       "51                        J.P. MORGAN INVESTMENT MGMT     18   \n",
       "52                        J.P. MORGAN INVESTMENT MGMT     18   \n",
       "53                        J.P. MORGAN INVESTMENT MGMT     18   \n",
       "54                        J.P. MORGAN INVESTMENT MGMT     18   \n",
       "55                        J.P. MORGAN INVESTMENT MGMT     18   \n",
       "56                        J.P. MORGAN INVESTMENT MGMT     18   \n",
       "57                     J.P. MORGAN INVESTMENT MGMT IN     18   \n",
       "58                     J.P. MORGAN INVESTMENT MGMT IN     18   \n",
       "59                     J.P. MORGAN INVESTMENT MGMT IN     18   \n",
       "60                     J.P. MORGAN INVESTMENT MGMT IN     18   \n",
       "61                     J.P. MORGAN INVESTMENT MGMT IN     18   \n",
       "62                     J.P. MORGAN INVESTMENT MGMT IN     18   \n",
       "63                         J.P. MORGAN INVST MGMT-NYC     18   \n",
       "64                                     MORGAN STANLEY    256   \n",
       "65                                     MORGAN STANLEY    256   \n",
       "66                                     MORGAN STANLEY    256   \n",
       "67                                     MORGAN STANLEY    256   \n",
       "\n",
       "                                               Target  \n",
       "0                      J.P. Morgan Bank (Ireland) plc  \n",
       "1                      J.P. Morgan Bank (Ireland) plc  \n",
       "2                      J.P. Morgan Bank (Ireland) plc  \n",
       "3                      J.P. Morgan Bank (Ireland) plc  \n",
       "4                      J.P. Morgan Bank (Ireland) plc  \n",
       "5                      J.P. Morgan Bank (Ireland) plc  \n",
       "6                      J.P. Morgan Bank (Ireland) plc  \n",
       "7                      J.P. Morgan Bank (Ireland) plc  \n",
       "8                      J.P. Morgan Bank (Ireland) plc  \n",
       "9                      J.P. Morgan Bank (Ireland) plc  \n",
       "10                      Commingled Pension Trust Fund  \n",
       "11                      Commingled Pension Trust Fund  \n",
       "12                      Commingled Pension Trust Fund  \n",
       "13                      Commingled Pension Trust Fund  \n",
       "14                      Commingled Pension Trust Fund  \n",
       "15                      Commingled Pension Trust Fund  \n",
       "16                      Commingled Pension Trust Fund  \n",
       "17                      Commingled Pension Trust Fund  \n",
       "18                      Commingled Pension Trust Fund  \n",
       "19                      Commingled Pension Trust Fund  \n",
       "20                      Commingled Pension Trust Fund  \n",
       "21  Deutsche Morgan Grenfell Group Public Limited ...  \n",
       "22  Deutsche Morgan Grenfell Group Public Limited ...  \n",
       "23  Deutsche Morgan Grenfell Group Public Limited ...  \n",
       "24                      J.P. Morgan Australia Limited  \n",
       "25                            J.P. Morgan Bank Canada  \n",
       "26                         J.P. Morgan Europe Limited  \n",
       "27            J.P. Morgan Investment Management, Inc.  \n",
       "28                  J.P. Morgan Securities Canada Inc  \n",
       "29                         J.P. Morgan Securities LLC  \n",
       "..                                                ...  \n",
       "38                         J.P. Morgan Europe Limited  \n",
       "39            J.P. Morgan Ventures Energy Corporation  \n",
       "40            J.P. Morgan Investment Management, Inc.  \n",
       "41            J.P. Morgan Investment Management, Inc.  \n",
       "42            J.P. Morgan Investment Management, Inc.  \n",
       "43            J.P. Morgan Investment Management, Inc.  \n",
       "44            J.P. Morgan Investment Management, Inc.  \n",
       "45            J.P. Morgan Investment Management, Inc.  \n",
       "46            J.P. Morgan Investment Management, Inc.  \n",
       "47            J.P. Morgan Investment Management, Inc.  \n",
       "48            J.P. Morgan Investment Management, Inc.  \n",
       "49            J.P. Morgan Investment Management, Inc.  \n",
       "50            J.P. Morgan Investment Management, Inc.  \n",
       "51            J.P. Morgan Investment Management, Inc.  \n",
       "52            J.P. Morgan Investment Management, Inc.  \n",
       "53            J.P. Morgan Investment Management, Inc.  \n",
       "54            J.P. Morgan Investment Management, Inc.  \n",
       "55            J.P. Morgan Investment Management, Inc.  \n",
       "56            J.P. Morgan Investment Management, Inc.  \n",
       "57            J.P. Morgan Investment Management, Inc.  \n",
       "58            J.P. Morgan Investment Management, Inc.  \n",
       "59            J.P. Morgan Investment Management, Inc.  \n",
       "60            J.P. Morgan Investment Management, Inc.  \n",
       "61            J.P. Morgan Investment Management, Inc.  \n",
       "62            J.P. Morgan Investment Management, Inc.  \n",
       "63            J.P. Morgan Investment Management, Inc.  \n",
       "64                                     Morgan Stanley  \n",
       "65                                     Morgan Stanley  \n",
       "66                                     Morgan Stanley  \n",
       "67                                     Morgan Stanley  \n",
       "\n",
       "[68 rows x 3 columns]"
      ]
     },
     "execution_count": 33,
     "metadata": {},
     "output_type": "execute_result"
    }
   ],
   "source": [
    "df"
   ]
  },
  {
   "cell_type": "code",
   "execution_count": null,
   "metadata": {},
   "outputs": [],
   "source": []
  }
 ],
 "metadata": {
  "kernelspec": {
   "display_name": "Python 3",
   "language": "python",
   "name": "python3"
  },
  "language_info": {
   "codemirror_mode": {
    "name": "ipython",
    "version": 3
   },
   "file_extension": ".py",
   "mimetype": "text/x-python",
   "name": "python",
   "nbconvert_exporter": "python",
   "pygments_lexer": "ipython3",
   "version": "3.8.8"
  }
 },
 "nbformat": 4,
 "nbformat_minor": 4
}
