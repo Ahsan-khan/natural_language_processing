{
 "cells": [
  {
   "cell_type": "markdown",
   "metadata": {},
   "source": [
    "# Entity Resolution on Unlabeled Text Data"
   ]
  },
  {
   "cell_type": "markdown",
   "metadata": {},
   "source": [
    "#### By Ahsan Khan"
   ]
  },
  {
   "cell_type": "code",
   "execution_count": 2,
   "metadata": {},
   "outputs": [],
   "source": [
    "# Set up Library imports\n",
    "\n",
    "import pandas as pd\n",
    "import re\n",
    "import sklearn\n",
    "from sklearn.feature_extraction.text import TfidfVectorizer\n",
    "from sklearn.metrics.pairwise import cosine_similarity\n",
    "import numpy as np\n",
    "#from sklearn.metrics import jaccard_similarity_score"
   ]
  },
  {
   "cell_type": "code",
   "execution_count": 3,
   "metadata": {},
   "outputs": [],
   "source": [
    "# Read csv files into Pandas dataframes\n",
    "\n",
    "entities_df = pd.read_csv('All entities.csv')\n",
    "\n",
    "targets_df = pd.read_csv('All targets.csv')\n",
    "\n",
    "# deep copy\n",
    "intact_entities_df = entities_df.copy()\n",
    "intact_targets_df = targets_df.copy()"
   ]
  },
  {
   "cell_type": "code",
   "execution_count": 4,
   "metadata": {
    "scrolled": true
   },
   "outputs": [
    {
     "data": {
      "text/html": [
       "<div>\n",
       "<style scoped>\n",
       "    .dataframe tbody tr th:only-of-type {\n",
       "        vertical-align: middle;\n",
       "    }\n",
       "\n",
       "    .dataframe tbody tr th {\n",
       "        vertical-align: top;\n",
       "    }\n",
       "\n",
       "    .dataframe thead th {\n",
       "        text-align: right;\n",
       "    }\n",
       "</style>\n",
       "<table border=\"1\" class=\"dataframe\">\n",
       "  <thead>\n",
       "    <tr style=\"text-align: right;\">\n",
       "      <th></th>\n",
       "      <th>All entities</th>\n",
       "    </tr>\n",
       "  </thead>\n",
       "  <tbody>\n",
       "    <tr>\n",
       "      <th>0</th>\n",
       "      <td>BLACKROCK ADV UKLTD-MORGAN-AGG</td>\n",
       "    </tr>\n",
       "    <tr>\n",
       "      <th>1</th>\n",
       "      <td>BLACKROCK FIN MG AAF-MORGANTRN</td>\n",
       "    </tr>\n",
       "    <tr>\n",
       "      <th>2</th>\n",
       "      <td>Commingled Pension Trust Fund (Core Bond) of J...</td>\n",
       "    </tr>\n",
       "    <tr>\n",
       "      <th>3</th>\n",
       "      <td>COMMINGLED PENSION TRUST FUND (CORE PLUS BOND)...</td>\n",
       "    </tr>\n",
       "    <tr>\n",
       "      <th>4</th>\n",
       "      <td>COMMINGLED PENSION TRUST FUND (CORE PLUS BOND)...</td>\n",
       "    </tr>\n",
       "    <tr>\n",
       "      <th>...</th>\n",
       "      <td>...</td>\n",
       "    </tr>\n",
       "    <tr>\n",
       "      <th>367</th>\n",
       "      <td>MORGAN STANLEY &amp; CO INTERNATIONAL PLC</td>\n",
       "    </tr>\n",
       "    <tr>\n",
       "      <th>368</th>\n",
       "      <td>MORGAN STANLEY &amp; CO INTL P-GBR</td>\n",
       "    </tr>\n",
       "    <tr>\n",
       "      <th>369</th>\n",
       "      <td>MORGAN STANLEY &amp; CO INTL P-GBR</td>\n",
       "    </tr>\n",
       "    <tr>\n",
       "      <th>370</th>\n",
       "      <td>MORGAN STANLEY &amp; CO INTL P-IOS</td>\n",
       "    </tr>\n",
       "    <tr>\n",
       "      <th>371</th>\n",
       "      <td>MORGAN STANLEY &amp; CO IN11-LCW</td>\n",
       "    </tr>\n",
       "  </tbody>\n",
       "</table>\n",
       "<p>372 rows × 1 columns</p>\n",
       "</div>"
      ],
      "text/plain": [
       "                                          All entities\n",
       "0                       BLACKROCK ADV UKLTD-MORGAN-AGG\n",
       "1                       BLACKROCK FIN MG AAF-MORGANTRN\n",
       "2    Commingled Pension Trust Fund (Core Bond) of J...\n",
       "3    COMMINGLED PENSION TRUST FUND (CORE PLUS BOND)...\n",
       "4    COMMINGLED PENSION TRUST FUND (CORE PLUS BOND)...\n",
       "..                                                 ...\n",
       "367              MORGAN STANLEY & CO INTERNATIONAL PLC\n",
       "368                     MORGAN STANLEY & CO INTL P-GBR\n",
       "369                     MORGAN STANLEY & CO INTL P-GBR\n",
       "370                     MORGAN STANLEY & CO INTL P-IOS\n",
       "371                       MORGAN STANLEY & CO IN11-LCW\n",
       "\n",
       "[372 rows x 1 columns]"
      ]
     },
     "execution_count": 4,
     "metadata": {},
     "output_type": "execute_result"
    }
   ],
   "source": [
    "entities_df"
   ]
  },
  {
   "cell_type": "code",
   "execution_count": 5,
   "metadata": {
    "scrolled": true
   },
   "outputs": [
    {
     "data": {
      "text/html": [
       "<div>\n",
       "<style scoped>\n",
       "    .dataframe tbody tr th:only-of-type {\n",
       "        vertical-align: middle;\n",
       "    }\n",
       "\n",
       "    .dataframe tbody tr th {\n",
       "        vertical-align: top;\n",
       "    }\n",
       "\n",
       "    .dataframe thead th {\n",
       "        text-align: right;\n",
       "    }\n",
       "</style>\n",
       "<table border=\"1\" class=\"dataframe\">\n",
       "  <thead>\n",
       "    <tr style=\"text-align: right;\">\n",
       "      <th></th>\n",
       "      <th>Target</th>\n",
       "    </tr>\n",
       "  </thead>\n",
       "  <tbody>\n",
       "    <tr>\n",
       "      <th>0</th>\n",
       "      <td>Blackrock Advisors (UK) Limited</td>\n",
       "    </tr>\n",
       "    <tr>\n",
       "      <th>1</th>\n",
       "      <td>BlackRock Financial Management, Inc.</td>\n",
       "    </tr>\n",
       "    <tr>\n",
       "      <th>2</th>\n",
       "      <td>Commingled Pension Trust Fund</td>\n",
       "    </tr>\n",
       "    <tr>\n",
       "      <th>3</th>\n",
       "      <td>Commingled Pension Trust Fund</td>\n",
       "    </tr>\n",
       "    <tr>\n",
       "      <th>4</th>\n",
       "      <td>Commingled Pension Trust Fund</td>\n",
       "    </tr>\n",
       "    <tr>\n",
       "      <th>...</th>\n",
       "      <td>...</td>\n",
       "    </tr>\n",
       "    <tr>\n",
       "      <th>367</th>\n",
       "      <td>Morgan Stanley &amp; Co. International plc</td>\n",
       "    </tr>\n",
       "    <tr>\n",
       "      <th>368</th>\n",
       "      <td>Morgan Stanley &amp; Co. International plc</td>\n",
       "    </tr>\n",
       "    <tr>\n",
       "      <th>369</th>\n",
       "      <td>Morgan Stanley &amp; Co. International plc</td>\n",
       "    </tr>\n",
       "    <tr>\n",
       "      <th>370</th>\n",
       "      <td>Morgan Stanley &amp; Co. International plc</td>\n",
       "    </tr>\n",
       "    <tr>\n",
       "      <th>371</th>\n",
       "      <td>Morgan Stanley &amp; Co. International plc</td>\n",
       "    </tr>\n",
       "  </tbody>\n",
       "</table>\n",
       "<p>372 rows × 1 columns</p>\n",
       "</div>"
      ],
      "text/plain": [
       "                                     Target\n",
       "0           Blackrock Advisors (UK) Limited\n",
       "1      BlackRock Financial Management, Inc.\n",
       "2             Commingled Pension Trust Fund\n",
       "3             Commingled Pension Trust Fund\n",
       "4             Commingled Pension Trust Fund\n",
       "..                                      ...\n",
       "367  Morgan Stanley & Co. International plc\n",
       "368  Morgan Stanley & Co. International plc\n",
       "369  Morgan Stanley & Co. International plc\n",
       "370  Morgan Stanley & Co. International plc\n",
       "371  Morgan Stanley & Co. International plc\n",
       "\n",
       "[372 rows x 1 columns]"
      ]
     },
     "execution_count": 5,
     "metadata": {},
     "output_type": "execute_result"
    }
   ],
   "source": [
    "targets_df"
   ]
  },
  {
   "cell_type": "markdown",
   "metadata": {},
   "source": [
    "### Preprocessing "
   ]
  },
  {
   "cell_type": "markdown",
   "metadata": {},
   "source": [
    "In the preprocessing state we are removing all punctuation, numbers and converting all text to lowercase. This will ensure uniformity in the corpus and all incoming entities"
   ]
  },
  {
   "cell_type": "code",
   "execution_count": 6,
   "metadata": {},
   "outputs": [],
   "source": [
    "# Remove punctuation and numbers, and convert to lower case \n",
    "\n",
    "def preprocess(df):\n",
    "    df.iloc[:,0] = df.iloc[:,0].apply(lambda x : str.lower(x)) # lower case\n",
    "    df.iloc[:,0] = df.iloc[:,0].apply\\\n",
    "            (lambda x : \" \".join(re.findall('[\\w]+',x))) # remove punc, nums \n",
    "    return df"
   ]
  },
  {
   "cell_type": "code",
   "execution_count": 7,
   "metadata": {},
   "outputs": [
    {
     "data": {
      "text/plain": [
       "0                         BLACKROCK ADV UKLTD-MORGAN-AGG\n",
       "1                         BLACKROCK FIN MG AAF-MORGANTRN\n",
       "2      Commingled Pension Trust Fund (Core Bond) of J...\n",
       "3      COMMINGLED PENSION TRUST FUND (CORE PLUS BOND)...\n",
       "4      COMMINGLED PENSION TRUST FUND (CORE PLUS BOND)...\n",
       "                             ...                        \n",
       "367                MORGAN STANLEY & CO INTERNATIONAL PLC\n",
       "368                       MORGAN STANLEY & CO INTL P-GBR\n",
       "369                       MORGAN STANLEY & CO INTL P-GBR\n",
       "370                       MORGAN STANLEY & CO INTL P-IOS\n",
       "371                         MORGAN STANLEY & CO IN11-LCW\n",
       "Name: All entities, Length: 372, dtype: object"
      ]
     },
     "execution_count": 7,
     "metadata": {},
     "output_type": "execute_result"
    }
   ],
   "source": [
    "entities_df.iloc[:,0]"
   ]
  },
  {
   "cell_type": "markdown",
   "metadata": {},
   "source": [
    "### Generating 3 character tokens (markov N-grams)"
   ]
  },
  {
   "cell_type": "code",
   "execution_count": 8,
   "metadata": {},
   "outputs": [],
   "source": [
    "# A function for generating markov tokens \n",
    "\n",
    "remove_spaces = lambda s : \"\".join(s.split())\n",
    "\n",
    "def split_3_char(s):\n",
    "    if len(s) == 3:\n",
    "        return s\n",
    "    return s[:3] + ' ' + split_3_char(s[1:])"
   ]
  },
  {
   "cell_type": "code",
   "execution_count": 9,
   "metadata": {},
   "outputs": [],
   "source": [
    "# Generating markov tokens of our dataframe\n",
    "\n",
    "def tokenize_all(df):\n",
    "    l = list(df.iloc[:,0])\n",
    "    Tokens = []\n",
    "    for w in l:\n",
    "        w = remove_spaces(w)\n",
    "        tok = split_3_char(w)\n",
    "        Tokens.append(tok)\n",
    "    return Tokens"
   ]
  },
  {
   "cell_type": "markdown",
   "metadata": {},
   "source": [
    "### Checking jaccard similarty (scraped)"
   ]
  },
  {
   "cell_type": "markdown",
   "metadata": {},
   "source": [
    "It was found that Jaccard similarity was not giving us the best match even though it is known best for text data. Say we have the token \"ele\" 3 repeat times in the title of an entity. Jaccard similarity will count it as just 1 \"ele\" and hence defeat the purpose. Cosine similarity will give us a better matching."
   ]
  },
  {
   "cell_type": "code",
   "execution_count": 10,
   "metadata": {},
   "outputs": [],
   "source": [
    "# jaccard similartiy function\n",
    "\n",
    "def get_jaccard_sim(str1, str2): \n",
    "    a = set(str1.split()) \n",
    "    b = set(str2.split())\n",
    "    c = a.intersection(b)\n",
    "    return float(len(c)) / (len(a) + len(b) - len(c))"
   ]
  },
  {
   "cell_type": "markdown",
   "metadata": {},
   "source": [
    "## Preprocessing"
   ]
  },
  {
   "cell_type": "code",
   "execution_count": 11,
   "metadata": {},
   "outputs": [],
   "source": [
    "# Running our functions on data\n",
    "\n",
    "entities_df = preprocess(entities_df)\n",
    "targets_df = preprocess(targets_df)"
   ]
  },
  {
   "cell_type": "code",
   "execution_count": 12,
   "metadata": {},
   "outputs": [
    {
     "data": {
      "text/html": [
       "<div>\n",
       "<style scoped>\n",
       "    .dataframe tbody tr th:only-of-type {\n",
       "        vertical-align: middle;\n",
       "    }\n",
       "\n",
       "    .dataframe tbody tr th {\n",
       "        vertical-align: top;\n",
       "    }\n",
       "\n",
       "    .dataframe thead th {\n",
       "        text-align: right;\n",
       "    }\n",
       "</style>\n",
       "<table border=\"1\" class=\"dataframe\">\n",
       "  <thead>\n",
       "    <tr style=\"text-align: right;\">\n",
       "      <th></th>\n",
       "      <th>All entities</th>\n",
       "    </tr>\n",
       "  </thead>\n",
       "  <tbody>\n",
       "    <tr>\n",
       "      <th>0</th>\n",
       "      <td>blackrock adv ukltd morgan agg</td>\n",
       "    </tr>\n",
       "    <tr>\n",
       "      <th>1</th>\n",
       "      <td>blackrock fin mg aaf morgantrn</td>\n",
       "    </tr>\n",
       "    <tr>\n",
       "      <th>2</th>\n",
       "      <td>commingled pension trust fund core bond of jpm...</td>\n",
       "    </tr>\n",
       "    <tr>\n",
       "      <th>3</th>\n",
       "      <td>commingled pension trust fund core plus bond o...</td>\n",
       "    </tr>\n",
       "    <tr>\n",
       "      <th>4</th>\n",
       "      <td>commingled pension trust fund core plus bond o...</td>\n",
       "    </tr>\n",
       "    <tr>\n",
       "      <th>...</th>\n",
       "      <td>...</td>\n",
       "    </tr>\n",
       "    <tr>\n",
       "      <th>367</th>\n",
       "      <td>morgan stanley co international plc</td>\n",
       "    </tr>\n",
       "    <tr>\n",
       "      <th>368</th>\n",
       "      <td>morgan stanley co intl p gbr</td>\n",
       "    </tr>\n",
       "    <tr>\n",
       "      <th>369</th>\n",
       "      <td>morgan stanley co intl p gbr</td>\n",
       "    </tr>\n",
       "    <tr>\n",
       "      <th>370</th>\n",
       "      <td>morgan stanley co intl p ios</td>\n",
       "    </tr>\n",
       "    <tr>\n",
       "      <th>371</th>\n",
       "      <td>morgan stanley co in11 lcw</td>\n",
       "    </tr>\n",
       "  </tbody>\n",
       "</table>\n",
       "<p>372 rows × 1 columns</p>\n",
       "</div>"
      ],
      "text/plain": [
       "                                          All entities\n",
       "0                       blackrock adv ukltd morgan agg\n",
       "1                       blackrock fin mg aaf morgantrn\n",
       "2    commingled pension trust fund core bond of jpm...\n",
       "3    commingled pension trust fund core plus bond o...\n",
       "4    commingled pension trust fund core plus bond o...\n",
       "..                                                 ...\n",
       "367                morgan stanley co international plc\n",
       "368                       morgan stanley co intl p gbr\n",
       "369                       morgan stanley co intl p gbr\n",
       "370                       morgan stanley co intl p ios\n",
       "371                         morgan stanley co in11 lcw\n",
       "\n",
       "[372 rows x 1 columns]"
      ]
     },
     "execution_count": 12,
     "metadata": {},
     "output_type": "execute_result"
    }
   ],
   "source": [
    "entities_df"
   ]
  },
  {
   "cell_type": "code",
   "execution_count": 13,
   "metadata": {},
   "outputs": [
    {
     "data": {
      "text/html": [
       "<div>\n",
       "<style scoped>\n",
       "    .dataframe tbody tr th:only-of-type {\n",
       "        vertical-align: middle;\n",
       "    }\n",
       "\n",
       "    .dataframe tbody tr th {\n",
       "        vertical-align: top;\n",
       "    }\n",
       "\n",
       "    .dataframe thead th {\n",
       "        text-align: right;\n",
       "    }\n",
       "</style>\n",
       "<table border=\"1\" class=\"dataframe\">\n",
       "  <thead>\n",
       "    <tr style=\"text-align: right;\">\n",
       "      <th></th>\n",
       "      <th>Target</th>\n",
       "    </tr>\n",
       "  </thead>\n",
       "  <tbody>\n",
       "    <tr>\n",
       "      <th>0</th>\n",
       "      <td>blackrock advisors uk limited</td>\n",
       "    </tr>\n",
       "    <tr>\n",
       "      <th>1</th>\n",
       "      <td>blackrock financial management inc</td>\n",
       "    </tr>\n",
       "    <tr>\n",
       "      <th>2</th>\n",
       "      <td>commingled pension trust fund</td>\n",
       "    </tr>\n",
       "    <tr>\n",
       "      <th>3</th>\n",
       "      <td>commingled pension trust fund</td>\n",
       "    </tr>\n",
       "    <tr>\n",
       "      <th>4</th>\n",
       "      <td>commingled pension trust fund</td>\n",
       "    </tr>\n",
       "    <tr>\n",
       "      <th>...</th>\n",
       "      <td>...</td>\n",
       "    </tr>\n",
       "    <tr>\n",
       "      <th>367</th>\n",
       "      <td>morgan stanley co international plc</td>\n",
       "    </tr>\n",
       "    <tr>\n",
       "      <th>368</th>\n",
       "      <td>morgan stanley co international plc</td>\n",
       "    </tr>\n",
       "    <tr>\n",
       "      <th>369</th>\n",
       "      <td>morgan stanley co international plc</td>\n",
       "    </tr>\n",
       "    <tr>\n",
       "      <th>370</th>\n",
       "      <td>morgan stanley co international plc</td>\n",
       "    </tr>\n",
       "    <tr>\n",
       "      <th>371</th>\n",
       "      <td>morgan stanley co international plc</td>\n",
       "    </tr>\n",
       "  </tbody>\n",
       "</table>\n",
       "<p>372 rows × 1 columns</p>\n",
       "</div>"
      ],
      "text/plain": [
       "                                  Target\n",
       "0          blackrock advisors uk limited\n",
       "1     blackrock financial management inc\n",
       "2          commingled pension trust fund\n",
       "3          commingled pension trust fund\n",
       "4          commingled pension trust fund\n",
       "..                                   ...\n",
       "367  morgan stanley co international plc\n",
       "368  morgan stanley co international plc\n",
       "369  morgan stanley co international plc\n",
       "370  morgan stanley co international plc\n",
       "371  morgan stanley co international plc\n",
       "\n",
       "[372 rows x 1 columns]"
      ]
     },
     "execution_count": 13,
     "metadata": {},
     "output_type": "execute_result"
    }
   ],
   "source": [
    "targets_df"
   ]
  },
  {
   "cell_type": "markdown",
   "metadata": {},
   "source": [
    "## Tokenization "
   ]
  },
  {
   "cell_type": "code",
   "execution_count": 14,
   "metadata": {},
   "outputs": [],
   "source": [
    "ent_corpus = tokenize_all(entities_df)\n",
    "targ_corpus = tokenize_all(targets_df)"
   ]
  },
  {
   "cell_type": "code",
   "execution_count": 15,
   "metadata": {},
   "outputs": [
    {
     "data": {
      "text/plain": [
       "'com omm mmi min ing ngl gle led edp dpe pen ens nsi sio ion ont ntr tru rus ust stf tfu fun und'"
      ]
     },
     "execution_count": 15,
     "metadata": {},
     "output_type": "execute_result"
    }
   ],
   "source": [
    "targ_corpus[3]"
   ]
  },
  {
   "cell_type": "code",
   "execution_count": 16,
   "metadata": {},
   "outputs": [
    {
     "data": {
      "text/plain": [
       "'com omm mmi min ing ngl gle led edp dpe pen ens nsi sio ion ont ntr tru rus ust stf tfu fun und ndc dco cor ore rep epl plu lus usb sbo bon ond ndo dof ofj fjp jpm pmo mor org rga gan anc nch cha has ase seb eba ban ank nkn kna'"
      ]
     },
     "execution_count": 16,
     "metadata": {},
     "output_type": "execute_result"
    }
   ],
   "source": [
    "ent_corpus[3]"
   ]
  },
  {
   "cell_type": "code",
   "execution_count": null,
   "metadata": {},
   "outputs": [],
   "source": []
  },
  {
   "cell_type": "code",
   "execution_count": null,
   "metadata": {},
   "outputs": [],
   "source": []
  },
  {
   "cell_type": "code",
   "execution_count": 17,
   "metadata": {},
   "outputs": [],
   "source": [
    "ent_size = len(ent_corpus)\n",
    "corpus_ent_targ = ent_corpus + targ_corpus # A giant corpus containing both entities and targets markov tokens."
   ]
  },
  {
   "cell_type": "raw",
   "metadata": {},
   "source": [
    "ent_corpus"
   ]
  },
  {
   "cell_type": "code",
   "execution_count": 18,
   "metadata": {},
   "outputs": [
    {
     "data": {
      "text/plain": [
       "372"
      ]
     },
     "execution_count": 18,
     "metadata": {},
     "output_type": "execute_result"
    }
   ],
   "source": [
    "ent_size"
   ]
  },
  {
   "cell_type": "code",
   "execution_count": 19,
   "metadata": {
    "scrolled": true
   },
   "outputs": [
    {
     "data": {
      "text/plain": [
       "744"
      ]
     },
     "execution_count": 19,
     "metadata": {},
     "output_type": "execute_result"
    }
   ],
   "source": [
    "# Main corpus\n",
    "\n",
    "len(corpus_ent_targ)"
   ]
  },
  {
   "cell_type": "markdown",
   "metadata": {},
   "source": [
    "## Cosine similariy\n"
   ]
  },
  {
   "cell_type": "markdown",
   "metadata": {},
   "source": [
    "#### Making TF matrix (not tf-idf)"
   ]
  },
  {
   "cell_type": "code",
   "execution_count": 20,
   "metadata": {},
   "outputs": [],
   "source": [
    "from sklearn.feature_extraction.text import CountVectorizer\n",
    "\n",
    "vectorizer = CountVectorizer()\n",
    "tf = vectorizer.fit_transform(corpus_ent_targ)"
   ]
  },
  {
   "cell_type": "markdown",
   "metadata": {},
   "source": [
    "After applying tf-idf scores I noticed the 'idf' part was giving less weights to tokens that appeared more often in the corpus. In our case this is not what we want. We want all the tokens to be given equal weights as each token represents a chunk of the entity's title. Hence, just tf scoring and not tf-idf scoring is better in this case."
   ]
  },
  {
   "cell_type": "markdown",
   "metadata": {},
   "source": [
    "Now we have a sparse maxtrix of all tokens"
   ]
  },
  {
   "cell_type": "code",
   "execution_count": 21,
   "metadata": {
    "scrolled": true
   },
   "outputs": [
    {
     "name": "stdout",
     "output_type": "stream",
     "text": [
      "  (0, 130)\t1\n",
      "  (0, 461)\t1\n",
      "  (0, 59)\t1\n",
      "  (0, 165)\t1\n",
      "  (0, 457)\t1\n",
      "  (0, 726)\t1\n",
      "  (0, 631)\t1\n",
      "  (0, 162)\t1\n",
      "  (0, 447)\t1\n",
      "  (0, 64)\t1\n",
      "  (0, 239)\t1\n",
      "  (0, 948)\t1\n",
      "  (0, 911)\t1\n",
      "  (0, 454)\t1\n",
      "  (0, 523)\t1\n",
      "  (0, 833)\t1\n",
      "  (0, 220)\t1\n",
      "  (0, 547)\t1\n",
      "  (0, 656)\t1\n",
      "  (0, 712)\t1\n",
      "  (0, 355)\t1\n",
      "  (0, 86)\t1\n",
      "  (0, 554)\t1\n",
      "  (0, 68)\t1\n",
      "  (1, 130)\t1\n",
      "  :\t:\n",
      "  (743, 427)\t1\n",
      "  (743, 121)\t1\n",
      "  (743, 857)\t1\n",
      "  (743, 425)\t1\n",
      "  (743, 612)\t1\n",
      "  (743, 845)\t1\n",
      "  (743, 97)\t1\n",
      "  (743, 679)\t1\n",
      "  (743, 610)\t1\n",
      "  (743, 806)\t1\n",
      "  (743, 826)\t1\n",
      "  (743, 95)\t1\n",
      "  (743, 603)\t1\n",
      "  (743, 487)\t1\n",
      "  (743, 329)\t1\n",
      "  (743, 558)\t1\n",
      "  (743, 643)\t1\n",
      "  (743, 555)\t1\n",
      "  (743, 961)\t1\n",
      "  (743, 300)\t1\n",
      "  (743, 725)\t1\n",
      "  (743, 80)\t1\n",
      "  (743, 172)\t1\n",
      "  (743, 638)\t1\n",
      "  (743, 520)\t1\n"
     ]
    }
   ],
   "source": [
    "print(tf)"
   ]
  },
  {
   "cell_type": "markdown",
   "metadata": {},
   "source": [
    "Now finding cosine similarity of each entity with every target.`"
   ]
  },
  {
   "cell_type": "code",
   "execution_count": 26,
   "metadata": {},
   "outputs": [
    {
     "data": {
      "text/plain": [
       "array([[0.45833333, 0.34114412, 0.        , ..., 0.15161961, 0.15161961,\n",
       "        0.15161961],\n",
       "       [0.29166667, 0.37904902, 0.04166667, ..., 0.15161961, 0.15161961,\n",
       "        0.15161961],\n",
       "       [0.        , 0.02550722, 0.67292658, ..., 0.12753608, 0.12753608,\n",
       "        0.12753608],\n",
       "       ...,\n",
       "       [0.        , 0.        , 0.        , ..., 0.64835272, 0.64835272,\n",
       "        0.64835272],\n",
       "       [0.        , 0.        , 0.        , ..., 0.64835272, 0.64835272,\n",
       "        0.64835272],\n",
       "       [0.        , 0.        , 0.        , ..., 0.6228411 , 0.6228411 ,\n",
       "        0.6228411 ]])"
      ]
     },
     "execution_count": 26,
     "metadata": {},
     "output_type": "execute_result"
    }
   ],
   "source": [
    "# cosine on Tf\n",
    "\n",
    "similarity_ent_targ = cosine_similarity(tf[0:ent_size], tf[ent_size:])\n",
    "similarity_ent_targ # List of lists containing each entity and its weights"
   ]
  },
  {
   "cell_type": "code",
   "execution_count": 43,
   "metadata": {
    "tags": []
   },
   "outputs": [
    {
     "data": {
      "text/html": [
       "<div>\n",
       "<style scoped>\n",
       "    .dataframe tbody tr th:only-of-type {\n",
       "        vertical-align: middle;\n",
       "    }\n",
       "\n",
       "    .dataframe tbody tr th {\n",
       "        vertical-align: top;\n",
       "    }\n",
       "\n",
       "    .dataframe thead th {\n",
       "        text-align: right;\n",
       "    }\n",
       "</style>\n",
       "<table border=\"1\" class=\"dataframe\">\n",
       "  <thead>\n",
       "    <tr style=\"text-align: right;\">\n",
       "      <th></th>\n",
       "      <th>0</th>\n",
       "      <th>1</th>\n",
       "      <th>2</th>\n",
       "      <th>3</th>\n",
       "      <th>4</th>\n",
       "      <th>5</th>\n",
       "      <th>6</th>\n",
       "      <th>7</th>\n",
       "      <th>8</th>\n",
       "      <th>9</th>\n",
       "      <th>...</th>\n",
       "      <th>362</th>\n",
       "      <th>363</th>\n",
       "      <th>364</th>\n",
       "      <th>365</th>\n",
       "      <th>366</th>\n",
       "      <th>367</th>\n",
       "      <th>368</th>\n",
       "      <th>369</th>\n",
       "      <th>370</th>\n",
       "      <th>371</th>\n",
       "    </tr>\n",
       "  </thead>\n",
       "  <tbody>\n",
       "    <tr>\n",
       "      <th>0</th>\n",
       "      <td>0.458333</td>\n",
       "      <td>0.341144</td>\n",
       "      <td>0.000000</td>\n",
       "      <td>0.000000</td>\n",
       "      <td>0.000000</td>\n",
       "      <td>0.000000</td>\n",
       "      <td>0.000000</td>\n",
       "      <td>0.000000</td>\n",
       "      <td>0.000000</td>\n",
       "      <td>0.000000</td>\n",
       "      <td>...</td>\n",
       "      <td>0.246183</td>\n",
       "      <td>0.246183</td>\n",
       "      <td>0.246183</td>\n",
       "      <td>0.204124</td>\n",
       "      <td>0.204124</td>\n",
       "      <td>0.151620</td>\n",
       "      <td>0.151620</td>\n",
       "      <td>0.151620</td>\n",
       "      <td>0.151620</td>\n",
       "      <td>0.151620</td>\n",
       "    </tr>\n",
       "    <tr>\n",
       "      <th>1</th>\n",
       "      <td>0.291667</td>\n",
       "      <td>0.379049</td>\n",
       "      <td>0.041667</td>\n",
       "      <td>0.041667</td>\n",
       "      <td>0.041667</td>\n",
       "      <td>0.041667</td>\n",
       "      <td>0.041667</td>\n",
       "      <td>0.041667</td>\n",
       "      <td>0.041667</td>\n",
       "      <td>0.041667</td>\n",
       "      <td>...</td>\n",
       "      <td>0.246183</td>\n",
       "      <td>0.246183</td>\n",
       "      <td>0.246183</td>\n",
       "      <td>0.204124</td>\n",
       "      <td>0.204124</td>\n",
       "      <td>0.151620</td>\n",
       "      <td>0.151620</td>\n",
       "      <td>0.151620</td>\n",
       "      <td>0.151620</td>\n",
       "      <td>0.151620</td>\n",
       "    </tr>\n",
       "    <tr>\n",
       "      <th>2</th>\n",
       "      <td>0.000000</td>\n",
       "      <td>0.025507</td>\n",
       "      <td>0.672927</td>\n",
       "      <td>0.672927</td>\n",
       "      <td>0.672927</td>\n",
       "      <td>0.672927</td>\n",
       "      <td>0.672927</td>\n",
       "      <td>0.672927</td>\n",
       "      <td>0.672927</td>\n",
       "      <td>0.672927</td>\n",
       "      <td>...</td>\n",
       "      <td>0.165663</td>\n",
       "      <td>0.165663</td>\n",
       "      <td>0.165663</td>\n",
       "      <td>0.137361</td>\n",
       "      <td>0.137361</td>\n",
       "      <td>0.127536</td>\n",
       "      <td>0.127536</td>\n",
       "      <td>0.127536</td>\n",
       "      <td>0.127536</td>\n",
       "      <td>0.127536</td>\n",
       "    </tr>\n",
       "    <tr>\n",
       "      <th>3</th>\n",
       "      <td>0.000000</td>\n",
       "      <td>0.024596</td>\n",
       "      <td>0.648886</td>\n",
       "      <td>0.648886</td>\n",
       "      <td>0.648886</td>\n",
       "      <td>0.648886</td>\n",
       "      <td>0.648886</td>\n",
       "      <td>0.648886</td>\n",
       "      <td>0.648886</td>\n",
       "      <td>0.648886</td>\n",
       "      <td>...</td>\n",
       "      <td>0.159745</td>\n",
       "      <td>0.159745</td>\n",
       "      <td>0.159745</td>\n",
       "      <td>0.132453</td>\n",
       "      <td>0.132453</td>\n",
       "      <td>0.122980</td>\n",
       "      <td>0.122980</td>\n",
       "      <td>0.122980</td>\n",
       "      <td>0.122980</td>\n",
       "      <td>0.122980</td>\n",
       "    </tr>\n",
       "    <tr>\n",
       "      <th>4</th>\n",
       "      <td>0.000000</td>\n",
       "      <td>0.024596</td>\n",
       "      <td>0.648886</td>\n",
       "      <td>0.648886</td>\n",
       "      <td>0.648886</td>\n",
       "      <td>0.648886</td>\n",
       "      <td>0.648886</td>\n",
       "      <td>0.648886</td>\n",
       "      <td>0.648886</td>\n",
       "      <td>0.648886</td>\n",
       "      <td>...</td>\n",
       "      <td>0.159745</td>\n",
       "      <td>0.159745</td>\n",
       "      <td>0.159745</td>\n",
       "      <td>0.132453</td>\n",
       "      <td>0.132453</td>\n",
       "      <td>0.122980</td>\n",
       "      <td>0.122980</td>\n",
       "      <td>0.122980</td>\n",
       "      <td>0.122980</td>\n",
       "      <td>0.122980</td>\n",
       "    </tr>\n",
       "    <tr>\n",
       "      <th>...</th>\n",
       "      <td>...</td>\n",
       "      <td>...</td>\n",
       "      <td>...</td>\n",
       "      <td>...</td>\n",
       "      <td>...</td>\n",
       "      <td>...</td>\n",
       "      <td>...</td>\n",
       "      <td>...</td>\n",
       "      <td>...</td>\n",
       "      <td>...</td>\n",
       "      <td>...</td>\n",
       "      <td>...</td>\n",
       "      <td>...</td>\n",
       "      <td>...</td>\n",
       "      <td>...</td>\n",
       "      <td>...</td>\n",
       "      <td>...</td>\n",
       "      <td>...</td>\n",
       "      <td>...</td>\n",
       "      <td>...</td>\n",
       "      <td>...</td>\n",
       "    </tr>\n",
       "    <tr>\n",
       "      <th>367</th>\n",
       "      <td>0.000000</td>\n",
       "      <td>0.000000</td>\n",
       "      <td>0.037905</td>\n",
       "      <td>0.037905</td>\n",
       "      <td>0.037905</td>\n",
       "      <td>0.037905</td>\n",
       "      <td>0.037905</td>\n",
       "      <td>0.037905</td>\n",
       "      <td>0.037905</td>\n",
       "      <td>0.037905</td>\n",
       "      <td>...</td>\n",
       "      <td>0.615882</td>\n",
       "      <td>0.615882</td>\n",
       "      <td>0.615882</td>\n",
       "      <td>0.603510</td>\n",
       "      <td>0.603510</td>\n",
       "      <td>1.000000</td>\n",
       "      <td>1.000000</td>\n",
       "      <td>1.000000</td>\n",
       "      <td>1.000000</td>\n",
       "      <td>1.000000</td>\n",
       "    </tr>\n",
       "    <tr>\n",
       "      <th>368</th>\n",
       "      <td>0.000000</td>\n",
       "      <td>0.000000</td>\n",
       "      <td>0.000000</td>\n",
       "      <td>0.000000</td>\n",
       "      <td>0.000000</td>\n",
       "      <td>0.000000</td>\n",
       "      <td>0.000000</td>\n",
       "      <td>0.000000</td>\n",
       "      <td>0.000000</td>\n",
       "      <td>0.000000</td>\n",
       "      <td>...</td>\n",
       "      <td>0.723747</td>\n",
       "      <td>0.723747</td>\n",
       "      <td>0.723747</td>\n",
       "      <td>0.709208</td>\n",
       "      <td>0.709208</td>\n",
       "      <td>0.648353</td>\n",
       "      <td>0.648353</td>\n",
       "      <td>0.648353</td>\n",
       "      <td>0.648353</td>\n",
       "      <td>0.648353</td>\n",
       "    </tr>\n",
       "    <tr>\n",
       "      <th>369</th>\n",
       "      <td>0.000000</td>\n",
       "      <td>0.000000</td>\n",
       "      <td>0.000000</td>\n",
       "      <td>0.000000</td>\n",
       "      <td>0.000000</td>\n",
       "      <td>0.000000</td>\n",
       "      <td>0.000000</td>\n",
       "      <td>0.000000</td>\n",
       "      <td>0.000000</td>\n",
       "      <td>0.000000</td>\n",
       "      <td>...</td>\n",
       "      <td>0.723747</td>\n",
       "      <td>0.723747</td>\n",
       "      <td>0.723747</td>\n",
       "      <td>0.709208</td>\n",
       "      <td>0.709208</td>\n",
       "      <td>0.648353</td>\n",
       "      <td>0.648353</td>\n",
       "      <td>0.648353</td>\n",
       "      <td>0.648353</td>\n",
       "      <td>0.648353</td>\n",
       "    </tr>\n",
       "    <tr>\n",
       "      <th>370</th>\n",
       "      <td>0.000000</td>\n",
       "      <td>0.000000</td>\n",
       "      <td>0.000000</td>\n",
       "      <td>0.000000</td>\n",
       "      <td>0.000000</td>\n",
       "      <td>0.000000</td>\n",
       "      <td>0.000000</td>\n",
       "      <td>0.000000</td>\n",
       "      <td>0.000000</td>\n",
       "      <td>0.000000</td>\n",
       "      <td>...</td>\n",
       "      <td>0.723747</td>\n",
       "      <td>0.723747</td>\n",
       "      <td>0.723747</td>\n",
       "      <td>0.709208</td>\n",
       "      <td>0.709208</td>\n",
       "      <td>0.648353</td>\n",
       "      <td>0.648353</td>\n",
       "      <td>0.648353</td>\n",
       "      <td>0.648353</td>\n",
       "      <td>0.648353</td>\n",
       "    </tr>\n",
       "    <tr>\n",
       "      <th>371</th>\n",
       "      <td>0.000000</td>\n",
       "      <td>0.000000</td>\n",
       "      <td>0.000000</td>\n",
       "      <td>0.000000</td>\n",
       "      <td>0.000000</td>\n",
       "      <td>0.000000</td>\n",
       "      <td>0.000000</td>\n",
       "      <td>0.000000</td>\n",
       "      <td>0.000000</td>\n",
       "      <td>0.000000</td>\n",
       "      <td>...</td>\n",
       "      <td>0.741620</td>\n",
       "      <td>0.741620</td>\n",
       "      <td>0.741620</td>\n",
       "      <td>0.726722</td>\n",
       "      <td>0.726722</td>\n",
       "      <td>0.622841</td>\n",
       "      <td>0.622841</td>\n",
       "      <td>0.622841</td>\n",
       "      <td>0.622841</td>\n",
       "      <td>0.622841</td>\n",
       "    </tr>\n",
       "  </tbody>\n",
       "</table>\n",
       "<p>372 rows × 372 columns</p>\n",
       "</div>"
      ],
      "text/plain": [
       "          0         1         2         3         4         5         6    \\\n",
       "0    0.458333  0.341144  0.000000  0.000000  0.000000  0.000000  0.000000   \n",
       "1    0.291667  0.379049  0.041667  0.041667  0.041667  0.041667  0.041667   \n",
       "2    0.000000  0.025507  0.672927  0.672927  0.672927  0.672927  0.672927   \n",
       "3    0.000000  0.024596  0.648886  0.648886  0.648886  0.648886  0.648886   \n",
       "4    0.000000  0.024596  0.648886  0.648886  0.648886  0.648886  0.648886   \n",
       "..        ...       ...       ...       ...       ...       ...       ...   \n",
       "367  0.000000  0.000000  0.037905  0.037905  0.037905  0.037905  0.037905   \n",
       "368  0.000000  0.000000  0.000000  0.000000  0.000000  0.000000  0.000000   \n",
       "369  0.000000  0.000000  0.000000  0.000000  0.000000  0.000000  0.000000   \n",
       "370  0.000000  0.000000  0.000000  0.000000  0.000000  0.000000  0.000000   \n",
       "371  0.000000  0.000000  0.000000  0.000000  0.000000  0.000000  0.000000   \n",
       "\n",
       "          7         8         9    ...       362       363       364  \\\n",
       "0    0.000000  0.000000  0.000000  ...  0.246183  0.246183  0.246183   \n",
       "1    0.041667  0.041667  0.041667  ...  0.246183  0.246183  0.246183   \n",
       "2    0.672927  0.672927  0.672927  ...  0.165663  0.165663  0.165663   \n",
       "3    0.648886  0.648886  0.648886  ...  0.159745  0.159745  0.159745   \n",
       "4    0.648886  0.648886  0.648886  ...  0.159745  0.159745  0.159745   \n",
       "..        ...       ...       ...  ...       ...       ...       ...   \n",
       "367  0.037905  0.037905  0.037905  ...  0.615882  0.615882  0.615882   \n",
       "368  0.000000  0.000000  0.000000  ...  0.723747  0.723747  0.723747   \n",
       "369  0.000000  0.000000  0.000000  ...  0.723747  0.723747  0.723747   \n",
       "370  0.000000  0.000000  0.000000  ...  0.723747  0.723747  0.723747   \n",
       "371  0.000000  0.000000  0.000000  ...  0.741620  0.741620  0.741620   \n",
       "\n",
       "          365       366       367       368       369       370       371  \n",
       "0    0.204124  0.204124  0.151620  0.151620  0.151620  0.151620  0.151620  \n",
       "1    0.204124  0.204124  0.151620  0.151620  0.151620  0.151620  0.151620  \n",
       "2    0.137361  0.137361  0.127536  0.127536  0.127536  0.127536  0.127536  \n",
       "3    0.132453  0.132453  0.122980  0.122980  0.122980  0.122980  0.122980  \n",
       "4    0.132453  0.132453  0.122980  0.122980  0.122980  0.122980  0.122980  \n",
       "..        ...       ...       ...       ...       ...       ...       ...  \n",
       "367  0.603510  0.603510  1.000000  1.000000  1.000000  1.000000  1.000000  \n",
       "368  0.709208  0.709208  0.648353  0.648353  0.648353  0.648353  0.648353  \n",
       "369  0.709208  0.709208  0.648353  0.648353  0.648353  0.648353  0.648353  \n",
       "370  0.709208  0.709208  0.648353  0.648353  0.648353  0.648353  0.648353  \n",
       "371  0.726722  0.726722  0.622841  0.622841  0.622841  0.622841  0.622841  \n",
       "\n",
       "[372 rows x 372 columns]"
      ]
     },
     "execution_count": 43,
     "metadata": {},
     "output_type": "execute_result"
    }
   ],
   "source": [
    "pd.DataFrame(similarity_ent_targ)"
   ]
  },
  {
   "cell_type": "code",
   "execution_count": 44,
   "metadata": {},
   "outputs": [
    {
     "data": {
      "text/plain": [
       "array([  0,   1,   2,   2,   2,   2,   2,   2,   2,   2,   2,   2,   2,\n",
       "         2,   2,   2,   2,   2,  18,  18,  18,  18,  18,  18,  18,  18,\n",
       "        18,  18,  18,  18,  18,  31,  32,  32,  32,  35,  35,  18,  18,\n",
       "        39,  39, 179, 179, 179, 179, 179, 179, 179, 179, 179,  50,  50,\n",
       "        50,  53,  53,  53,  56,  56,  56,  56,  56,  56,  62,  62,  64,\n",
       "        64,  64,  64,  64,  64,  70,  71,  71,  71,  71,  71,  71,  71,\n",
       "        71,  18,  18,  18,  18,  18,  18,  18,  18,  18,  18,  18,  18,\n",
       "        91,  31,  31,  92,  92,  92,  92,  98,  31,  31,  31,  31,  31,\n",
       "        31,  31,  31,  31,  31,  31,  31,  31,  31, 113, 114, 114, 114,\n",
       "       114, 256, 119, 119, 119, 119, 119, 119, 256, 256, 256, 256, 256,\n",
       "       256, 256, 256, 133, 133,  50,  50, 137, 137, 137, 140, 140, 140,\n",
       "        50,  31,  31,  31,  31,  31,  31,  31,  31,  31,  31,  31,  31,\n",
       "        31,  31,  31,  32,  32,  32,  32,  32,  32,  32,  32,  32,  32,\n",
       "        32,  32,  31, 172, 173,  18,  18,  18,  18,  18, 179, 179, 179,\n",
       "       179, 179, 179, 179, 179, 179, 179, 179, 179, 179, 179, 179, 179,\n",
       "       179, 179, 179, 179, 179, 179, 179,   2,   2,   2,   2,   2,   2,\n",
       "         2,   2,   2,   2,   2, 213, 213, 213, 216, 217, 218,  18,  98,\n",
       "        31,  31,  18,  18,  18,  18, 227, 227, 227, 218, 172,  18,  18,\n",
       "        18,  18,  18,  18,  18,  18,  18,  18,  18,  18,  18,  18,  18,\n",
       "        18,  18,  18,  18,  18,  18,  18,  18,  18, 256, 256, 256, 256,\n",
       "       256, 256, 256, 256, 256, 256, 256, 256, 256, 256, 270, 256, 256,\n",
       "       256, 268, 268, 268, 268, 268, 268, 268, 268, 270, 270, 270, 270,\n",
       "       270, 270, 270, 270, 270,  18,  18,  18,  18,  18,  18,  18,  18,\n",
       "        18,  18,  18,  18,  18,  18,  18,  18,  18,  18,  18,  18,  18,\n",
       "        18,  18,  18,  18,  18,  18, 318, 318, 216, 216, 216, 216, 270,\n",
       "       270, 270, 270, 270, 270, 270, 270, 270, 268, 268, 268, 268, 268,\n",
       "       268, 268, 268, 268, 268, 268, 268, 256, 346, 347, 347, 347, 256,\n",
       "       347, 347, 347, 256, 256, 256, 256, 256, 256, 256, 256, 256, 256,\n",
       "       256, 256, 256, 270, 256, 256, 256, 256], dtype=int64)"
      ]
     },
     "execution_count": 44,
     "metadata": {},
     "output_type": "execute_result"
    }
   ],
   "source": [
    "# Index of target with max score for each entry.\n",
    "\n",
    "targ_indexes = similarity_ent_targ.argmax(axis=1)\n",
    "targ_indexes #Indexes of targets determined by argmax on cosine similarity weights"
   ]
  },
  {
   "cell_type": "code",
   "execution_count": 48,
   "metadata": {},
   "outputs": [],
   "source": [
    "entities_df = intact_entities_df\n",
    "targets_df = intact_targets_df"
   ]
  },
  {
   "cell_type": "code",
   "execution_count": 49,
   "metadata": {},
   "outputs": [],
   "source": [
    "entities_series = entities_df.iloc[:,0]"
   ]
  },
  {
   "cell_type": "code",
   "execution_count": 50,
   "metadata": {},
   "outputs": [
    {
     "data": {
      "text/plain": [
       "0                         BLACKROCK ADV UKLTD-MORGAN-AGG\n",
       "1                         BLACKROCK FIN MG AAF-MORGANTRN\n",
       "2      Commingled Pension Trust Fund (Core Bond) of J...\n",
       "3      COMMINGLED PENSION TRUST FUND (CORE PLUS BOND)...\n",
       "4      COMMINGLED PENSION TRUST FUND (CORE PLUS BOND)...\n",
       "                             ...                        \n",
       "367                MORGAN STANLEY & CO INTERNATIONAL PLC\n",
       "368                       MORGAN STANLEY & CO INTL P-GBR\n",
       "369                       MORGAN STANLEY & CO INTL P-GBR\n",
       "370                       MORGAN STANLEY & CO INTL P-IOS\n",
       "371                         MORGAN STANLEY & CO IN11-LCW\n",
       "Name: All entities, Length: 372, dtype: object"
      ]
     },
     "execution_count": 50,
     "metadata": {},
     "output_type": "execute_result"
    }
   ],
   "source": [
    "entities_series"
   ]
  },
  {
   "cell_type": "code",
   "execution_count": 51,
   "metadata": {},
   "outputs": [],
   "source": [
    "# Get targets given indexes\n",
    "\n",
    "associated_targets = targets_df.iloc[targ_indexes] \n",
    "associated_targets_series = associated_targets.iloc[:,0]\n",
    "associated_targets_series = associated_targets_series.reset_index(drop=False)"
   ]
  },
  {
   "cell_type": "code",
   "execution_count": 52,
   "metadata": {},
   "outputs": [],
   "source": [
    "# Concatenating final dataframe\n",
    "\n",
    "df = pd.concat([entities_series, associated_targets_series], axis=1)"
   ]
  },
  {
   "cell_type": "markdown",
   "metadata": {},
   "source": [
    "Creating a csv file"
   ]
  },
  {
   "cell_type": "code",
   "execution_count": 54,
   "metadata": {},
   "outputs": [],
   "source": [
    "df.to_csv('C:\\\\Users\\\\Ahsan\\\\Desktop\\\\GitHub\\\\natural_language_processing\\\\entity_resolution\\\\matched.csv', index=False)"
   ]
  },
  {
   "cell_type": "markdown",
   "metadata": {},
   "source": [
    "## Output table of matched entities to its target"
   ]
  },
  {
   "cell_type": "code",
   "execution_count": 55,
   "metadata": {},
   "outputs": [
    {
     "data": {
      "text/html": [
       "<div>\n",
       "<style scoped>\n",
       "    .dataframe tbody tr th:only-of-type {\n",
       "        vertical-align: middle;\n",
       "    }\n",
       "\n",
       "    .dataframe tbody tr th {\n",
       "        vertical-align: top;\n",
       "    }\n",
       "\n",
       "    .dataframe thead th {\n",
       "        text-align: right;\n",
       "    }\n",
       "</style>\n",
       "<table border=\"1\" class=\"dataframe\">\n",
       "  <thead>\n",
       "    <tr style=\"text-align: right;\">\n",
       "      <th></th>\n",
       "      <th>All entities</th>\n",
       "      <th>index</th>\n",
       "      <th>Target</th>\n",
       "    </tr>\n",
       "  </thead>\n",
       "  <tbody>\n",
       "    <tr>\n",
       "      <th>0</th>\n",
       "      <td>BLACKROCK ADV UKLTD-MORGAN-AGG</td>\n",
       "      <td>0</td>\n",
       "      <td>Blackrock Advisors (UK) Limited</td>\n",
       "    </tr>\n",
       "    <tr>\n",
       "      <th>1</th>\n",
       "      <td>BLACKROCK FIN MG AAF-MORGANTRN</td>\n",
       "      <td>1</td>\n",
       "      <td>BlackRock Financial Management, Inc.</td>\n",
       "    </tr>\n",
       "    <tr>\n",
       "      <th>2</th>\n",
       "      <td>Commingled Pension Trust Fund (Core Bond) of J...</td>\n",
       "      <td>2</td>\n",
       "      <td>Commingled Pension Trust Fund</td>\n",
       "    </tr>\n",
       "    <tr>\n",
       "      <th>3</th>\n",
       "      <td>COMMINGLED PENSION TRUST FUND (CORE PLUS BOND)...</td>\n",
       "      <td>2</td>\n",
       "      <td>Commingled Pension Trust Fund</td>\n",
       "    </tr>\n",
       "    <tr>\n",
       "      <th>4</th>\n",
       "      <td>COMMINGLED PENSION TRUST FUND (CORE PLUS BOND)...</td>\n",
       "      <td>2</td>\n",
       "      <td>Commingled Pension Trust Fund</td>\n",
       "    </tr>\n",
       "    <tr>\n",
       "      <th>...</th>\n",
       "      <td>...</td>\n",
       "      <td>...</td>\n",
       "      <td>...</td>\n",
       "    </tr>\n",
       "    <tr>\n",
       "      <th>367</th>\n",
       "      <td>MORGAN STANLEY &amp; CO INTERNATIONAL PLC</td>\n",
       "      <td>270</td>\n",
       "      <td>Morgan Stanley &amp; Co. International plc</td>\n",
       "    </tr>\n",
       "    <tr>\n",
       "      <th>368</th>\n",
       "      <td>MORGAN STANLEY &amp; CO INTL P-GBR</td>\n",
       "      <td>256</td>\n",
       "      <td>Morgan Stanley</td>\n",
       "    </tr>\n",
       "    <tr>\n",
       "      <th>369</th>\n",
       "      <td>MORGAN STANLEY &amp; CO INTL P-GBR</td>\n",
       "      <td>256</td>\n",
       "      <td>Morgan Stanley</td>\n",
       "    </tr>\n",
       "    <tr>\n",
       "      <th>370</th>\n",
       "      <td>MORGAN STANLEY &amp; CO INTL P-IOS</td>\n",
       "      <td>256</td>\n",
       "      <td>Morgan Stanley</td>\n",
       "    </tr>\n",
       "    <tr>\n",
       "      <th>371</th>\n",
       "      <td>MORGAN STANLEY &amp; CO IN11-LCW</td>\n",
       "      <td>256</td>\n",
       "      <td>Morgan Stanley</td>\n",
       "    </tr>\n",
       "  </tbody>\n",
       "</table>\n",
       "<p>372 rows × 3 columns</p>\n",
       "</div>"
      ],
      "text/plain": [
       "                                          All entities  index  \\\n",
       "0                       BLACKROCK ADV UKLTD-MORGAN-AGG      0   \n",
       "1                       BLACKROCK FIN MG AAF-MORGANTRN      1   \n",
       "2    Commingled Pension Trust Fund (Core Bond) of J...      2   \n",
       "3    COMMINGLED PENSION TRUST FUND (CORE PLUS BOND)...      2   \n",
       "4    COMMINGLED PENSION TRUST FUND (CORE PLUS BOND)...      2   \n",
       "..                                                 ...    ...   \n",
       "367              MORGAN STANLEY & CO INTERNATIONAL PLC    270   \n",
       "368                     MORGAN STANLEY & CO INTL P-GBR    256   \n",
       "369                     MORGAN STANLEY & CO INTL P-GBR    256   \n",
       "370                     MORGAN STANLEY & CO INTL P-IOS    256   \n",
       "371                       MORGAN STANLEY & CO IN11-LCW    256   \n",
       "\n",
       "                                     Target  \n",
       "0           Blackrock Advisors (UK) Limited  \n",
       "1      BlackRock Financial Management, Inc.  \n",
       "2             Commingled Pension Trust Fund  \n",
       "3             Commingled Pension Trust Fund  \n",
       "4             Commingled Pension Trust Fund  \n",
       "..                                      ...  \n",
       "367  Morgan Stanley & Co. International plc  \n",
       "368                          Morgan Stanley  \n",
       "369                          Morgan Stanley  \n",
       "370                          Morgan Stanley  \n",
       "371                          Morgan Stanley  \n",
       "\n",
       "[372 rows x 3 columns]"
      ]
     },
     "execution_count": 55,
     "metadata": {},
     "output_type": "execute_result"
    }
   ],
   "source": [
    "df"
   ]
  },
  {
   "cell_type": "code",
   "execution_count": null,
   "metadata": {},
   "outputs": [],
   "source": []
  }
 ],
 "metadata": {
  "kernelspec": {
   "display_name": "Python 3 (ipykernel)",
   "language": "python",
   "name": "python3"
  },
  "language_info": {
   "codemirror_mode": {
    "name": "ipython",
    "version": 3
   },
   "file_extension": ".py",
   "mimetype": "text/x-python",
   "name": "python",
   "nbconvert_exporter": "python",
   "pygments_lexer": "ipython3",
   "version": "3.9.7"
  }
 },
 "nbformat": 4,
 "nbformat_minor": 4
}
